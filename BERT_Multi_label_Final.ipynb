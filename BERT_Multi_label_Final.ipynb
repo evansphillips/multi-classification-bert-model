{
  "cells": [
    {
      "cell_type": "markdown",
      "metadata": {
        "id": "ugcDU5vEsHmg"
      },
      "source": [
        "# Install/Import the necessary packages "
      ]
    },
    {
      "cell_type": "code",
      "execution_count": 4,
      "metadata": {
        "colab": {
          "base_uri": "https://localhost:8080/"
        },
        "id": "rlZaxOExrSeE",
        "outputId": "5b536797-ab4d-49d7-ab87-acfa7df6cd9f"
      },
      "outputs": [
        {
          "name": "stdout",
          "output_type": "stream",
          "text": [
            "Requirement already satisfied: torch in c:\\users\\evans\\onedrive\\documents\\github\\multi-classification-bert-model\\.venv\\lib\\site-packages (2.0.1)\n",
            "Requirement already satisfied: filelock in c:\\users\\evans\\onedrive\\documents\\github\\multi-classification-bert-model\\.venv\\lib\\site-packages (from torch) (3.12.4)\n",
            "Requirement already satisfied: typing-extensions in c:\\users\\evans\\onedrive\\documents\\github\\multi-classification-bert-model\\.venv\\lib\\site-packages (from torch) (4.8.0)\n",
            "Requirement already satisfied: sympy in c:\\users\\evans\\onedrive\\documents\\github\\multi-classification-bert-model\\.venv\\lib\\site-packages (from torch) (1.12)\n",
            "Requirement already satisfied: networkx in c:\\users\\evans\\onedrive\\documents\\github\\multi-classification-bert-model\\.venv\\lib\\site-packages (from torch) (3.1)\n",
            "Requirement already satisfied: jinja2 in c:\\users\\evans\\onedrive\\documents\\github\\multi-classification-bert-model\\.venv\\lib\\site-packages (from torch) (3.1.2)\n",
            "Requirement already satisfied: MarkupSafe>=2.0 in c:\\users\\evans\\onedrive\\documents\\github\\multi-classification-bert-model\\.venv\\lib\\site-packages (from jinja2->torch) (2.1.3)\n",
            "Requirement already satisfied: mpmath>=0.19 in c:\\users\\evans\\onedrive\\documents\\github\\multi-classification-bert-model\\.venv\\lib\\site-packages (from sympy->torch) (1.3.0)\n",
            "Requirement already satisfied: watermark in c:\\users\\evans\\onedrive\\documents\\github\\multi-classification-bert-model\\.venv\\lib\\site-packages (2.4.3)\n",
            "Requirement already satisfied: ipython>=6.0 in c:\\users\\evans\\onedrive\\documents\\github\\multi-classification-bert-model\\.venv\\lib\\site-packages (from watermark) (8.15.0)\n",
            "Requirement already satisfied: importlib-metadata>=1.4 in c:\\users\\evans\\onedrive\\documents\\github\\multi-classification-bert-model\\.venv\\lib\\site-packages (from watermark) (6.8.0)\n",
            "Requirement already satisfied: setuptools in c:\\users\\evans\\onedrive\\documents\\github\\multi-classification-bert-model\\.venv\\lib\\site-packages (from watermark) (65.5.0)\n",
            "Requirement already satisfied: zipp>=0.5 in c:\\users\\evans\\onedrive\\documents\\github\\multi-classification-bert-model\\.venv\\lib\\site-packages (from importlib-metadata>=1.4->watermark) (3.17.0)\n",
            "Requirement already satisfied: backcall in c:\\users\\evans\\onedrive\\documents\\github\\multi-classification-bert-model\\.venv\\lib\\site-packages (from ipython>=6.0->watermark) (0.2.0)\n",
            "Requirement already satisfied: decorator in c:\\users\\evans\\onedrive\\documents\\github\\multi-classification-bert-model\\.venv\\lib\\site-packages (from ipython>=6.0->watermark) (5.1.1)\n",
            "Requirement already satisfied: jedi>=0.16 in c:\\users\\evans\\onedrive\\documents\\github\\multi-classification-bert-model\\.venv\\lib\\site-packages (from ipython>=6.0->watermark) (0.19.0)\n",
            "Requirement already satisfied: matplotlib-inline in c:\\users\\evans\\onedrive\\documents\\github\\multi-classification-bert-model\\.venv\\lib\\site-packages (from ipython>=6.0->watermark) (0.1.6)\n",
            "Requirement already satisfied: pickleshare in c:\\users\\evans\\onedrive\\documents\\github\\multi-classification-bert-model\\.venv\\lib\\site-packages (from ipython>=6.0->watermark) (0.7.5)\n",
            "Requirement already satisfied: prompt-toolkit!=3.0.37,<3.1.0,>=3.0.30 in c:\\users\\evans\\onedrive\\documents\\github\\multi-classification-bert-model\\.venv\\lib\\site-packages (from ipython>=6.0->watermark) (3.0.39)\n",
            "Requirement already satisfied: pygments>=2.4.0 in c:\\users\\evans\\onedrive\\documents\\github\\multi-classification-bert-model\\.venv\\lib\\site-packages (from ipython>=6.0->watermark) (2.16.1)\n",
            "Requirement already satisfied: stack-data in c:\\users\\evans\\onedrive\\documents\\github\\multi-classification-bert-model\\.venv\\lib\\site-packages (from ipython>=6.0->watermark) (0.6.2)\n",
            "Requirement already satisfied: traitlets>=5 in c:\\users\\evans\\onedrive\\documents\\github\\multi-classification-bert-model\\.venv\\lib\\site-packages (from ipython>=6.0->watermark) (5.10.0)\n",
            "Requirement already satisfied: exceptiongroup in c:\\users\\evans\\onedrive\\documents\\github\\multi-classification-bert-model\\.venv\\lib\\site-packages (from ipython>=6.0->watermark) (1.1.3)\n",
            "Requirement already satisfied: colorama in c:\\users\\evans\\onedrive\\documents\\github\\multi-classification-bert-model\\.venv\\lib\\site-packages (from ipython>=6.0->watermark) (0.4.6)\n",
            "Requirement already satisfied: parso<0.9.0,>=0.8.3 in c:\\users\\evans\\onedrive\\documents\\github\\multi-classification-bert-model\\.venv\\lib\\site-packages (from jedi>=0.16->ipython>=6.0->watermark) (0.8.3)\n",
            "Requirement already satisfied: wcwidth in c:\\users\\evans\\onedrive\\documents\\github\\multi-classification-bert-model\\.venv\\lib\\site-packages (from prompt-toolkit!=3.0.37,<3.1.0,>=3.0.30->ipython>=6.0->watermark) (0.2.6)\n",
            "Requirement already satisfied: executing>=1.2.0 in c:\\users\\evans\\onedrive\\documents\\github\\multi-classification-bert-model\\.venv\\lib\\site-packages (from stack-data->ipython>=6.0->watermark) (1.2.0)\n",
            "Requirement already satisfied: asttokens>=2.1.0 in c:\\users\\evans\\onedrive\\documents\\github\\multi-classification-bert-model\\.venv\\lib\\site-packages (from stack-data->ipython>=6.0->watermark) (2.4.0)\n",
            "Requirement already satisfied: pure-eval in c:\\users\\evans\\onedrive\\documents\\github\\multi-classification-bert-model\\.venv\\lib\\site-packages (from stack-data->ipython>=6.0->watermark) (0.2.2)\n",
            "Requirement already satisfied: six>=1.12.0 in c:\\users\\evans\\onedrive\\documents\\github\\multi-classification-bert-model\\.venv\\lib\\site-packages (from asttokens>=2.1.0->stack-data->ipython>=6.0->watermark) (1.16.0)\n",
            "Requirement already satisfied: transformers in c:\\users\\evans\\onedrive\\documents\\github\\multi-classification-bert-model\\.venv\\lib\\site-packages (4.33.2)\n",
            "Requirement already satisfied: filelock in c:\\users\\evans\\onedrive\\documents\\github\\multi-classification-bert-model\\.venv\\lib\\site-packages (from transformers) (3.12.4)\n",
            "Requirement already satisfied: huggingface-hub<1.0,>=0.15.1 in c:\\users\\evans\\onedrive\\documents\\github\\multi-classification-bert-model\\.venv\\lib\\site-packages (from transformers) (0.17.2)\n",
            "Requirement already satisfied: numpy>=1.17 in c:\\users\\evans\\onedrive\\documents\\github\\multi-classification-bert-model\\.venv\\lib\\site-packages (from transformers) (1.26.0)\n",
            "Requirement already satisfied: packaging>=20.0 in c:\\users\\evans\\onedrive\\documents\\github\\multi-classification-bert-model\\.venv\\lib\\site-packages (from transformers) (23.1)\n",
            "Requirement already satisfied: pyyaml>=5.1 in c:\\users\\evans\\onedrive\\documents\\github\\multi-classification-bert-model\\.venv\\lib\\site-packages (from transformers) (6.0.1)\n",
            "Requirement already satisfied: regex!=2019.12.17 in c:\\users\\evans\\onedrive\\documents\\github\\multi-classification-bert-model\\.venv\\lib\\site-packages (from transformers) (2023.8.8)\n",
            "Requirement already satisfied: requests in c:\\users\\evans\\onedrive\\documents\\github\\multi-classification-bert-model\\.venv\\lib\\site-packages (from transformers) (2.31.0)\n",
            "Requirement already satisfied: tokenizers!=0.11.3,<0.14,>=0.11.1 in c:\\users\\evans\\onedrive\\documents\\github\\multi-classification-bert-model\\.venv\\lib\\site-packages (from transformers) (0.13.3)\n",
            "Requirement already satisfied: safetensors>=0.3.1 in c:\\users\\evans\\onedrive\\documents\\github\\multi-classification-bert-model\\.venv\\lib\\site-packages (from transformers) (0.3.3)\n",
            "Requirement already satisfied: tqdm>=4.27 in c:\\users\\evans\\onedrive\\documents\\github\\multi-classification-bert-model\\.venv\\lib\\site-packages (from transformers) (4.66.1)\n",
            "Requirement already satisfied: fsspec in c:\\users\\evans\\onedrive\\documents\\github\\multi-classification-bert-model\\.venv\\lib\\site-packages (from huggingface-hub<1.0,>=0.15.1->transformers) (2023.9.1)\n",
            "Requirement already satisfied: typing-extensions>=3.7.4.3 in c:\\users\\evans\\onedrive\\documents\\github\\multi-classification-bert-model\\.venv\\lib\\site-packages (from huggingface-hub<1.0,>=0.15.1->transformers) (4.8.0)\n",
            "Requirement already satisfied: colorama in c:\\users\\evans\\onedrive\\documents\\github\\multi-classification-bert-model\\.venv\\lib\\site-packages (from tqdm>=4.27->transformers) (0.4.6)\n",
            "Requirement already satisfied: charset-normalizer<4,>=2 in c:\\users\\evans\\onedrive\\documents\\github\\multi-classification-bert-model\\.venv\\lib\\site-packages (from requests->transformers) (3.2.0)\n",
            "Requirement already satisfied: idna<4,>=2.5 in c:\\users\\evans\\onedrive\\documents\\github\\multi-classification-bert-model\\.venv\\lib\\site-packages (from requests->transformers) (3.4)\n",
            "Requirement already satisfied: urllib3<3,>=1.21.1 in c:\\users\\evans\\onedrive\\documents\\github\\multi-classification-bert-model\\.venv\\lib\\site-packages (from requests->transformers) (2.0.5)\n",
            "Requirement already satisfied: certifi>=2017.4.17 in c:\\users\\evans\\onedrive\\documents\\github\\multi-classification-bert-model\\.venv\\lib\\site-packages (from requests->transformers) (2023.7.22)\n",
            "Requirement already satisfied: pytorch-lightning in c:\\users\\evans\\onedrive\\documents\\github\\multi-classification-bert-model\\.venv\\lib\\site-packages (2.0.9)\n",
            "Requirement already satisfied: numpy>=1.17.2 in c:\\users\\evans\\onedrive\\documents\\github\\multi-classification-bert-model\\.venv\\lib\\site-packages (from pytorch-lightning) (1.26.0)\n",
            "Requirement already satisfied: torch>=1.11.0 in c:\\users\\evans\\onedrive\\documents\\github\\multi-classification-bert-model\\.venv\\lib\\site-packages (from pytorch-lightning) (2.0.1)\n",
            "Requirement already satisfied: tqdm>=4.57.0 in c:\\users\\evans\\onedrive\\documents\\github\\multi-classification-bert-model\\.venv\\lib\\site-packages (from pytorch-lightning) (4.66.1)\n",
            "Requirement already satisfied: PyYAML>=5.4 in c:\\users\\evans\\onedrive\\documents\\github\\multi-classification-bert-model\\.venv\\lib\\site-packages (from pytorch-lightning) (6.0.1)\n",
            "Requirement already satisfied: fsspec[http]>2021.06.0 in c:\\users\\evans\\onedrive\\documents\\github\\multi-classification-bert-model\\.venv\\lib\\site-packages (from pytorch-lightning) (2023.9.1)\n",
            "Requirement already satisfied: torchmetrics>=0.7.0 in c:\\users\\evans\\onedrive\\documents\\github\\multi-classification-bert-model\\.venv\\lib\\site-packages (from pytorch-lightning) (1.1.2)\n",
            "Requirement already satisfied: packaging>=17.1 in c:\\users\\evans\\onedrive\\documents\\github\\multi-classification-bert-model\\.venv\\lib\\site-packages (from pytorch-lightning) (23.1)\n",
            "Requirement already satisfied: typing-extensions>=4.0.0 in c:\\users\\evans\\onedrive\\documents\\github\\multi-classification-bert-model\\.venv\\lib\\site-packages (from pytorch-lightning) (4.8.0)\n",
            "Requirement already satisfied: lightning-utilities>=0.7.0 in c:\\users\\evans\\onedrive\\documents\\github\\multi-classification-bert-model\\.venv\\lib\\site-packages (from pytorch-lightning) (0.9.0)\n",
            "Requirement already satisfied: requests in c:\\users\\evans\\onedrive\\documents\\github\\multi-classification-bert-model\\.venv\\lib\\site-packages (from fsspec[http]>2021.06.0->pytorch-lightning) (2.31.0)\n",
            "Requirement already satisfied: aiohttp!=4.0.0a0,!=4.0.0a1 in c:\\users\\evans\\onedrive\\documents\\github\\multi-classification-bert-model\\.venv\\lib\\site-packages (from fsspec[http]>2021.06.0->pytorch-lightning) (3.8.5)\n",
            "Requirement already satisfied: filelock in c:\\users\\evans\\onedrive\\documents\\github\\multi-classification-bert-model\\.venv\\lib\\site-packages (from torch>=1.11.0->pytorch-lightning) (3.12.4)\n",
            "Requirement already satisfied: sympy in c:\\users\\evans\\onedrive\\documents\\github\\multi-classification-bert-model\\.venv\\lib\\site-packages (from torch>=1.11.0->pytorch-lightning) (1.12)\n",
            "Requirement already satisfied: networkx in c:\\users\\evans\\onedrive\\documents\\github\\multi-classification-bert-model\\.venv\\lib\\site-packages (from torch>=1.11.0->pytorch-lightning) (3.1)\n",
            "Requirement already satisfied: jinja2 in c:\\users\\evans\\onedrive\\documents\\github\\multi-classification-bert-model\\.venv\\lib\\site-packages (from torch>=1.11.0->pytorch-lightning) (3.1.2)\n",
            "Requirement already satisfied: colorama in c:\\users\\evans\\onedrive\\documents\\github\\multi-classification-bert-model\\.venv\\lib\\site-packages (from tqdm>=4.57.0->pytorch-lightning) (0.4.6)\n",
            "Requirement already satisfied: attrs>=17.3.0 in c:\\users\\evans\\onedrive\\documents\\github\\multi-classification-bert-model\\.venv\\lib\\site-packages (from aiohttp!=4.0.0a0,!=4.0.0a1->fsspec[http]>2021.06.0->pytorch-lightning) (23.1.0)\n",
            "Requirement already satisfied: charset-normalizer<4.0,>=2.0 in c:\\users\\evans\\onedrive\\documents\\github\\multi-classification-bert-model\\.venv\\lib\\site-packages (from aiohttp!=4.0.0a0,!=4.0.0a1->fsspec[http]>2021.06.0->pytorch-lightning) (3.2.0)\n",
            "Requirement already satisfied: multidict<7.0,>=4.5 in c:\\users\\evans\\onedrive\\documents\\github\\multi-classification-bert-model\\.venv\\lib\\site-packages (from aiohttp!=4.0.0a0,!=4.0.0a1->fsspec[http]>2021.06.0->pytorch-lightning) (6.0.4)\n",
            "Requirement already satisfied: async-timeout<5.0,>=4.0.0a3 in c:\\users\\evans\\onedrive\\documents\\github\\multi-classification-bert-model\\.venv\\lib\\site-packages (from aiohttp!=4.0.0a0,!=4.0.0a1->fsspec[http]>2021.06.0->pytorch-lightning) (4.0.3)\n",
            "Requirement already satisfied: yarl<2.0,>=1.0 in c:\\users\\evans\\onedrive\\documents\\github\\multi-classification-bert-model\\.venv\\lib\\site-packages (from aiohttp!=4.0.0a0,!=4.0.0a1->fsspec[http]>2021.06.0->pytorch-lightning) (1.9.2)\n",
            "Requirement already satisfied: frozenlist>=1.1.1 in c:\\users\\evans\\onedrive\\documents\\github\\multi-classification-bert-model\\.venv\\lib\\site-packages (from aiohttp!=4.0.0a0,!=4.0.0a1->fsspec[http]>2021.06.0->pytorch-lightning) (1.4.0)\n",
            "Requirement already satisfied: aiosignal>=1.1.2 in c:\\users\\evans\\onedrive\\documents\\github\\multi-classification-bert-model\\.venv\\lib\\site-packages (from aiohttp!=4.0.0a0,!=4.0.0a1->fsspec[http]>2021.06.0->pytorch-lightning) (1.3.1)\n",
            "Requirement already satisfied: MarkupSafe>=2.0 in c:\\users\\evans\\onedrive\\documents\\github\\multi-classification-bert-model\\.venv\\lib\\site-packages (from jinja2->torch>=1.11.0->pytorch-lightning) (2.1.3)\n",
            "Requirement already satisfied: idna<4,>=2.5 in c:\\users\\evans\\onedrive\\documents\\github\\multi-classification-bert-model\\.venv\\lib\\site-packages (from requests->fsspec[http]>2021.06.0->pytorch-lightning) (3.4)\n",
            "Requirement already satisfied: urllib3<3,>=1.21.1 in c:\\users\\evans\\onedrive\\documents\\github\\multi-classification-bert-model\\.venv\\lib\\site-packages (from requests->fsspec[http]>2021.06.0->pytorch-lightning) (2.0.5)\n",
            "Requirement already satisfied: certifi>=2017.4.17 in c:\\users\\evans\\onedrive\\documents\\github\\multi-classification-bert-model\\.venv\\lib\\site-packages (from requests->fsspec[http]>2021.06.0->pytorch-lightning) (2023.7.22)\n",
            "Requirement already satisfied: mpmath>=0.19 in c:\\users\\evans\\onedrive\\documents\\github\\multi-classification-bert-model\\.venv\\lib\\site-packages (from sympy->torch>=1.11.0->pytorch-lightning) (1.3.0)\n",
            "Requirement already satisfied: colored in c:\\users\\evans\\onedrive\\documents\\github\\multi-classification-bert-model\\.venv\\lib\\site-packages (2.2.3)\n"
          ]
        }
      ],
      "source": [
        "import sys\n",
        "!pip install torch\n",
        "!pip install watermark\n",
        "!pip install transformers\n",
        "!pip install --upgrade pytorch-lightning\n",
        "!pip install colored"
      ]
    },
    {
      "cell_type": "code",
      "execution_count": 3,
      "metadata": {
        "colab": {
          "base_uri": "https://localhost:8080/"
        },
        "id": "RitFKmxcqpqi",
        "outputId": "db3c708f-0b77-4396-935a-1dfe600fd8fd"
      },
      "outputs": [
        {
          "name": "stderr",
          "output_type": "stream",
          "text": [
            "c:\\Users\\evans\\OneDrive\\Documents\\GitHub\\multi-classification-bert-model\\.venv\\lib\\site-packages\\tqdm\\auto.py:21: TqdmWarning: IProgress not found. Please update jupyter and ipywidgets. See https://ipywidgets.readthedocs.io/en/stable/user_install.html\n",
            "  from .autonotebook import tqdm as notebook_tqdm\n",
            "Global seed set to 42\n"
          ]
        },
        {
          "data": {
            "text/plain": [
              "42"
            ]
          },
          "execution_count": 3,
          "metadata": {},
          "output_type": "execute_result"
        }
      ],
      "source": [
        "import pandas as pd\n",
        "import numpy as np\n",
        "from tqdm.auto import tqdm\n",
        "import torch\n",
        "\n",
        "import torchmetrics\n",
        "import torch.nn as nn\n",
        "from torch.utils.data import Dataset, DataLoader\n",
        "from transformers import BertTokenizerFast as BertTokenizer, BertModel, AdamW, get_linear_schedule_with_warmup\n",
        "\n",
        "# HAVING TROUBLE IMPORTING THIS SECTION (commented out - Noor)\n",
        "\n",
        "import pytorch_lightning as pl\n",
        "from torchmetrics.functional import accuracy, auroc\n",
        "from torchmetrics.functional import f1_score\n",
        "from pytorch_lightning.callbacks import ModelCheckpoint, EarlyStopping\n",
        "from pytorch_lightning.loggers import TensorBoardLogger\n",
        "from sklearn.model_selection import train_test_split\n",
        "from sklearn.metrics import classification_report, multilabel_confusion_matrix\n",
        "import seaborn as sns\n",
        "from pylab import rcParams\n",
        "import matplotlib.pyplot as plt\n",
        "from matplotlib import rc\n",
        "\n",
        "%matplotlib inline\n",
        "%config InlineBackend.figure_format='retina'\n",
        "RANDOM_SEED = 42\n",
        "sns.set(style='whitegrid', palette='muted', font_scale=1.2)\n",
        "HAPPY_COLORS_PALETTE = [\"#01BEFE\", \"#FFDD00\", \"#FF7D00\", \"#FF006D\", \"#ADFF02\", \"#8F00FF\"]\n",
        "sns.set_palette(sns.color_palette(HAPPY_COLORS_PALETTE))\n",
        "rcParams['figure.figsize'] = 12, 8\n",
        "pl.seed_everything(RANDOM_SEED)"
      ]
    },
    {
      "cell_type": "markdown",
      "metadata": {
        "id": "SdMkY1gV0Lih"
      },
      "source": [
        "Load Data"
      ]
    },
    {
      "cell_type": "code",
      "execution_count": 5,
      "metadata": {
        "id": "FkbWXSsPzyh0"
      },
      "outputs": [],
      "source": [
        "# read in data\n",
        "df = pd.read_csv(\"data\\multi_label_new.csv\")"
      ]
    },
    {
      "cell_type": "markdown",
      "metadata": {
        "id": "ilDkDqDD0Z3Q"
      },
      "source": [
        "Data Preview "
      ]
    },
    {
      "cell_type": "code",
      "execution_count": 6,
      "metadata": {
        "colab": {
          "base_uri": "https://localhost:8080/",
          "height": 641
        },
        "id": "j_elXRkY0YUV",
        "outputId": "e4470165-4c69-44df-b1e4-fb8159f4e710"
      },
      "outputs": [
        {
          "data": {
            "text/html": [
              "<div>\n",
              "<style scoped>\n",
              "    .dataframe tbody tr th:only-of-type {\n",
              "        vertical-align: middle;\n",
              "    }\n",
              "\n",
              "    .dataframe tbody tr th {\n",
              "        vertical-align: top;\n",
              "    }\n",
              "\n",
              "    .dataframe thead th {\n",
              "        text-align: right;\n",
              "    }\n",
              "</style>\n",
              "<table border=\"1\" class=\"dataframe\">\n",
              "  <thead>\n",
              "    <tr style=\"text-align: right;\">\n",
              "      <th></th>\n",
              "      <th>tweet</th>\n",
              "      <th>neutral</th>\n",
              "      <th>general criticism</th>\n",
              "      <th>disability shaming</th>\n",
              "      <th>racial prejudice</th>\n",
              "      <th>sexism</th>\n",
              "      <th>lgbtq+ phobic</th>\n",
              "    </tr>\n",
              "  </thead>\n",
              "  <tbody>\n",
              "    <tr>\n",
              "      <th>0</th>\n",
              "      <td>RT @bender3395: I'm never playing flappy bird ...</td>\n",
              "      <td>0</td>\n",
              "      <td>0</td>\n",
              "      <td>0</td>\n",
              "      <td>0</td>\n",
              "      <td>0</td>\n",
              "      <td>1</td>\n",
              "    </tr>\n",
              "    <tr>\n",
              "      <th>1</th>\n",
              "      <td>RT @JackBPR: Alec Baldwin mocks Harris-Perry: ...</td>\n",
              "      <td>0</td>\n",
              "      <td>0</td>\n",
              "      <td>0</td>\n",
              "      <td>0</td>\n",
              "      <td>0</td>\n",
              "      <td>1</td>\n",
              "    </tr>\n",
              "    <tr>\n",
              "      <th>2</th>\n",
              "      <td>Gay ass hillbilly intro song</td>\n",
              "      <td>0</td>\n",
              "      <td>0</td>\n",
              "      <td>0</td>\n",
              "      <td>0</td>\n",
              "      <td>0</td>\n",
              "      <td>1</td>\n",
              "    </tr>\n",
              "    <tr>\n",
              "      <th>3</th>\n",
              "      <td>Photo: Giving you that trailer park trash. #tr...</td>\n",
              "      <td>0</td>\n",
              "      <td>0</td>\n",
              "      <td>0</td>\n",
              "      <td>0</td>\n",
              "      <td>0</td>\n",
              "      <td>1</td>\n",
              "    </tr>\n",
              "    <tr>\n",
              "      <th>4</th>\n",
              "      <td>I uploaded a @YouTube video http://t.co/JHUuZp...</td>\n",
              "      <td>0</td>\n",
              "      <td>0</td>\n",
              "      <td>0</td>\n",
              "      <td>0</td>\n",
              "      <td>0</td>\n",
              "      <td>1</td>\n",
              "    </tr>\n",
              "    <tr>\n",
              "      <th>...</th>\n",
              "      <td>...</td>\n",
              "      <td>...</td>\n",
              "      <td>...</td>\n",
              "      <td>...</td>\n",
              "      <td>...</td>\n",
              "      <td>...</td>\n",
              "      <td>...</td>\n",
              "    </tr>\n",
              "    <tr>\n",
              "      <th>23467</th>\n",
              "      <td>I love watching birds migrate. Wish I understo...</td>\n",
              "      <td>1</td>\n",
              "      <td>0</td>\n",
              "      <td>0</td>\n",
              "      <td>0</td>\n",
              "      <td>0</td>\n",
              "      <td>0</td>\n",
              "    </tr>\n",
              "    <tr>\n",
              "      <th>23468</th>\n",
              "      <td>@stevedischiavi Thanks 'Walking Dead' Bro Stev...</td>\n",
              "      <td>1</td>\n",
              "      <td>0</td>\n",
              "      <td>0</td>\n",
              "      <td>0</td>\n",
              "      <td>0</td>\n",
              "      <td>0</td>\n",
              "    </tr>\n",
              "    <tr>\n",
              "      <th>23469</th>\n",
              "      <td>Mark Teixeira finally stepping up, HR and coup...</td>\n",
              "      <td>1</td>\n",
              "      <td>0</td>\n",
              "      <td>0</td>\n",
              "      <td>0</td>\n",
              "      <td>0</td>\n",
              "      <td>0</td>\n",
              "    </tr>\n",
              "    <tr>\n",
              "      <th>23470</th>\n",
              "      <td>Yellow jackets at gas station trash cans are T...</td>\n",
              "      <td>0</td>\n",
              "      <td>1</td>\n",
              "      <td>0</td>\n",
              "      <td>0</td>\n",
              "      <td>0</td>\n",
              "      <td>0</td>\n",
              "    </tr>\n",
              "    <tr>\n",
              "      <th>23471</th>\n",
              "      <td>Already more yellows than the last 2 years com...</td>\n",
              "      <td>1</td>\n",
              "      <td>0</td>\n",
              "      <td>0</td>\n",
              "      <td>0</td>\n",
              "      <td>0</td>\n",
              "      <td>0</td>\n",
              "    </tr>\n",
              "  </tbody>\n",
              "</table>\n",
              "<p>23472 rows × 7 columns</p>\n",
              "</div>"
            ],
            "text/plain": [
              "                                                   tweet  neutral  \\\n",
              "0      RT @bender3395: I'm never playing flappy bird ...        0   \n",
              "1      RT @JackBPR: Alec Baldwin mocks Harris-Perry: ...        0   \n",
              "2                           Gay ass hillbilly intro song        0   \n",
              "3      Photo: Giving you that trailer park trash. #tr...        0   \n",
              "4      I uploaded a @YouTube video http://t.co/JHUuZp...        0   \n",
              "...                                                  ...      ...   \n",
              "23467  I love watching birds migrate. Wish I understo...        1   \n",
              "23468  @stevedischiavi Thanks 'Walking Dead' Bro Stev...        1   \n",
              "23469  Mark Teixeira finally stepping up, HR and coup...        1   \n",
              "23470  Yellow jackets at gas station trash cans are T...        0   \n",
              "23471  Already more yellows than the last 2 years com...        1   \n",
              "\n",
              "       general criticism  disability shaming  racial prejudice  sexism  \\\n",
              "0                      0                   0                 0       0   \n",
              "1                      0                   0                 0       0   \n",
              "2                      0                   0                 0       0   \n",
              "3                      0                   0                 0       0   \n",
              "4                      0                   0                 0       0   \n",
              "...                  ...                 ...               ...     ...   \n",
              "23467                  0                   0                 0       0   \n",
              "23468                  0                   0                 0       0   \n",
              "23469                  0                   0                 0       0   \n",
              "23470                  1                   0                 0       0   \n",
              "23471                  0                   0                 0       0   \n",
              "\n",
              "       lgbtq+ phobic  \n",
              "0                  1  \n",
              "1                  1  \n",
              "2                  1  \n",
              "3                  1  \n",
              "4                  1  \n",
              "...              ...  \n",
              "23467              0  \n",
              "23468              0  \n",
              "23469              0  \n",
              "23470              0  \n",
              "23471              0  \n",
              "\n",
              "[23472 rows x 7 columns]"
            ]
          },
          "execution_count": 6,
          "metadata": {},
          "output_type": "execute_result"
        }
      ],
      "source": [
        "df"
      ]
    },
    {
      "cell_type": "markdown",
      "metadata": {
        "id": "eUBzYyJ92F7b"
      },
      "source": [
        "Remove Duplicates and Drop NAs"
      ]
    },
    {
      "cell_type": "code",
      "execution_count": 7,
      "metadata": {
        "colab": {
          "base_uri": "https://localhost:8080/"
        },
        "id": "oLNC0JQl1ouk",
        "outputId": "2014dd9a-f377-4378-ff3e-0da6d323733b"
      },
      "outputs": [
        {
          "data": {
            "text/plain": [
              "23472"
            ]
          },
          "execution_count": 7,
          "metadata": {},
          "output_type": "execute_result"
        }
      ],
      "source": [
        "len(df)"
      ]
    },
    {
      "cell_type": "code",
      "execution_count": 8,
      "metadata": {
        "id": "6QGjk9Gb1ig3"
      },
      "outputs": [],
      "source": [
        "# remove duplicate tweets and drop NAs\n",
        "df.drop_duplicates(subset=\"tweet\", inplace=True)\n",
        "df = df.dropna()"
      ]
    },
    {
      "cell_type": "code",
      "execution_count": 9,
      "metadata": {
        "colab": {
          "base_uri": "https://localhost:8080/"
        },
        "id": "QARZEPNY1qqF",
        "outputId": "8e9604b3-8b11-4028-b06a-f822e3dc3090"
      },
      "outputs": [
        {
          "data": {
            "text/plain": [
              "22636"
            ]
          },
          "execution_count": 9,
          "metadata": {},
          "output_type": "execute_result"
        }
      ],
      "source": [
        "len(df)"
      ]
    },
    {
      "cell_type": "markdown",
      "metadata": {
        "id": "FHjhRbYi0giT"
      },
      "source": [
        "Convert label data to int "
      ]
    },
    {
      "cell_type": "code",
      "execution_count": 10,
      "metadata": {
        "colab": {
          "base_uri": "https://localhost:8080/"
        },
        "id": "khyj-p520fIe",
        "outputId": "ed5b2343-1d31-4d8c-aa26-b00610e99027"
      },
      "outputs": [],
      "source": [
        "# change all category types to int\n",
        "df.loc[:, \"neutral\"] = df.loc[:, \"neutral\"].astype(int)\n",
        "df.loc[:, \"general criticism\"] = df.loc[:, \"general criticism\"].astype(int)\n",
        "df.loc[:, \"disability shaming\"] = df.loc[:, \"disability shaming\"].astype(int)\n",
        "df.loc[:, \"racial prejudice\"] = df.loc[:, \"racial prejudice\"].astype(int)\n",
        "df.loc[:, \"sexism\"] = df.loc[:, \"sexism\"].astype(int)\n",
        "df.loc[:, \"lgbtq+ phobic\"] = df.loc[:, \"lgbtq+ phobic\"].astype(int)"
      ]
    },
    {
      "cell_type": "code",
      "execution_count": null,
      "metadata": {
        "colab": {
          "base_uri": "https://localhost:8080/",
          "height": 641
        },
        "id": "EkUVYXL92ioA",
        "outputId": "3c0286f4-a0be-46a7-bef8-ffb480648508"
      },
      "outputs": [
        {
          "data": {
            "text/html": [
              "\n",
              "  <div id=\"df-ddfff335-4a6e-46e5-aa7a-646ece7d5caf\">\n",
              "    <div class=\"colab-df-container\">\n",
              "      <div>\n",
              "<style scoped>\n",
              "    .dataframe tbody tr th:only-of-type {\n",
              "        vertical-align: middle;\n",
              "    }\n",
              "\n",
              "    .dataframe tbody tr th {\n",
              "        vertical-align: top;\n",
              "    }\n",
              "\n",
              "    .dataframe thead th {\n",
              "        text-align: right;\n",
              "    }\n",
              "</style>\n",
              "<table border=\"1\" class=\"dataframe\">\n",
              "  <thead>\n",
              "    <tr style=\"text-align: right;\">\n",
              "      <th></th>\n",
              "      <th>tweet</th>\n",
              "      <th>neutral</th>\n",
              "      <th>general criticism</th>\n",
              "      <th>disability shaming</th>\n",
              "      <th>racial prejudice</th>\n",
              "      <th>sexism</th>\n",
              "      <th>lgbtq+ phobic</th>\n",
              "    </tr>\n",
              "  </thead>\n",
              "  <tbody>\n",
              "    <tr>\n",
              "      <th>0</th>\n",
              "      <td>RT @bender3395: I'm never playing flappy bird ...</td>\n",
              "      <td>0</td>\n",
              "      <td>0</td>\n",
              "      <td>0</td>\n",
              "      <td>0</td>\n",
              "      <td>0</td>\n",
              "      <td>1</td>\n",
              "    </tr>\n",
              "    <tr>\n",
              "      <th>1</th>\n",
              "      <td>RT @JackBPR: Alec Baldwin mocks Harris-Perry: ...</td>\n",
              "      <td>0</td>\n",
              "      <td>0</td>\n",
              "      <td>0</td>\n",
              "      <td>0</td>\n",
              "      <td>0</td>\n",
              "      <td>1</td>\n",
              "    </tr>\n",
              "    <tr>\n",
              "      <th>2</th>\n",
              "      <td>Gay ass hillbilly intro song</td>\n",
              "      <td>0</td>\n",
              "      <td>0</td>\n",
              "      <td>0</td>\n",
              "      <td>0</td>\n",
              "      <td>0</td>\n",
              "      <td>1</td>\n",
              "    </tr>\n",
              "    <tr>\n",
              "      <th>3</th>\n",
              "      <td>Photo: Giving you that trailer park trash. #tr...</td>\n",
              "      <td>0</td>\n",
              "      <td>0</td>\n",
              "      <td>0</td>\n",
              "      <td>0</td>\n",
              "      <td>0</td>\n",
              "      <td>1</td>\n",
              "    </tr>\n",
              "    <tr>\n",
              "      <th>4</th>\n",
              "      <td>I uploaded a @YouTube video http://t.co/JHUuZp...</td>\n",
              "      <td>0</td>\n",
              "      <td>0</td>\n",
              "      <td>0</td>\n",
              "      <td>0</td>\n",
              "      <td>0</td>\n",
              "      <td>1</td>\n",
              "    </tr>\n",
              "    <tr>\n",
              "      <th>...</th>\n",
              "      <td>...</td>\n",
              "      <td>...</td>\n",
              "      <td>...</td>\n",
              "      <td>...</td>\n",
              "      <td>...</td>\n",
              "      <td>...</td>\n",
              "      <td>...</td>\n",
              "    </tr>\n",
              "    <tr>\n",
              "      <th>23467</th>\n",
              "      <td>I love watching birds migrate. Wish I understo...</td>\n",
              "      <td>1</td>\n",
              "      <td>0</td>\n",
              "      <td>0</td>\n",
              "      <td>0</td>\n",
              "      <td>0</td>\n",
              "      <td>0</td>\n",
              "    </tr>\n",
              "    <tr>\n",
              "      <th>23468</th>\n",
              "      <td>@stevedischiavi Thanks 'Walking Dead' Bro Stev...</td>\n",
              "      <td>1</td>\n",
              "      <td>0</td>\n",
              "      <td>0</td>\n",
              "      <td>0</td>\n",
              "      <td>0</td>\n",
              "      <td>0</td>\n",
              "    </tr>\n",
              "    <tr>\n",
              "      <th>23469</th>\n",
              "      <td>Mark Teixeira finally stepping up, HR and coup...</td>\n",
              "      <td>1</td>\n",
              "      <td>0</td>\n",
              "      <td>0</td>\n",
              "      <td>0</td>\n",
              "      <td>0</td>\n",
              "      <td>0</td>\n",
              "    </tr>\n",
              "    <tr>\n",
              "      <th>23470</th>\n",
              "      <td>Yellow jackets at gas station trash cans are T...</td>\n",
              "      <td>0</td>\n",
              "      <td>1</td>\n",
              "      <td>0</td>\n",
              "      <td>0</td>\n",
              "      <td>0</td>\n",
              "      <td>0</td>\n",
              "    </tr>\n",
              "    <tr>\n",
              "      <th>23471</th>\n",
              "      <td>Already more yellows than the last 2 years com...</td>\n",
              "      <td>1</td>\n",
              "      <td>0</td>\n",
              "      <td>0</td>\n",
              "      <td>0</td>\n",
              "      <td>0</td>\n",
              "      <td>0</td>\n",
              "    </tr>\n",
              "  </tbody>\n",
              "</table>\n",
              "<p>22636 rows × 7 columns</p>\n",
              "</div>\n",
              "      <button class=\"colab-df-convert\" onclick=\"convertToInteractive('df-ddfff335-4a6e-46e5-aa7a-646ece7d5caf')\"\n",
              "              title=\"Convert this dataframe to an interactive table.\"\n",
              "              style=\"display:none;\">\n",
              "        \n",
              "  <svg xmlns=\"http://www.w3.org/2000/svg\" height=\"24px\"viewBox=\"0 0 24 24\"\n",
              "       width=\"24px\">\n",
              "    <path d=\"M0 0h24v24H0V0z\" fill=\"none\"/>\n",
              "    <path d=\"M18.56 5.44l.94 2.06.94-2.06 2.06-.94-2.06-.94-.94-2.06-.94 2.06-2.06.94zm-11 1L8.5 8.5l.94-2.06 2.06-.94-2.06-.94L8.5 2.5l-.94 2.06-2.06.94zm10 10l.94 2.06.94-2.06 2.06-.94-2.06-.94-.94-2.06-.94 2.06-2.06.94z\"/><path d=\"M17.41 7.96l-1.37-1.37c-.4-.4-.92-.59-1.43-.59-.52 0-1.04.2-1.43.59L10.3 9.45l-7.72 7.72c-.78.78-.78 2.05 0 2.83L4 21.41c.39.39.9.59 1.41.59.51 0 1.02-.2 1.41-.59l7.78-7.78 2.81-2.81c.8-.78.8-2.07 0-2.86zM5.41 20L4 18.59l7.72-7.72 1.47 1.35L5.41 20z\"/>\n",
              "  </svg>\n",
              "      </button>\n",
              "      \n",
              "  <style>\n",
              "    .colab-df-container {\n",
              "      display:flex;\n",
              "      flex-wrap:wrap;\n",
              "      gap: 12px;\n",
              "    }\n",
              "\n",
              "    .colab-df-convert {\n",
              "      background-color: #E8F0FE;\n",
              "      border: none;\n",
              "      border-radius: 50%;\n",
              "      cursor: pointer;\n",
              "      display: none;\n",
              "      fill: #1967D2;\n",
              "      height: 32px;\n",
              "      padding: 0 0 0 0;\n",
              "      width: 32px;\n",
              "    }\n",
              "\n",
              "    .colab-df-convert:hover {\n",
              "      background-color: #E2EBFA;\n",
              "      box-shadow: 0px 1px 2px rgba(60, 64, 67, 0.3), 0px 1px 3px 1px rgba(60, 64, 67, 0.15);\n",
              "      fill: #174EA6;\n",
              "    }\n",
              "\n",
              "    [theme=dark] .colab-df-convert {\n",
              "      background-color: #3B4455;\n",
              "      fill: #D2E3FC;\n",
              "    }\n",
              "\n",
              "    [theme=dark] .colab-df-convert:hover {\n",
              "      background-color: #434B5C;\n",
              "      box-shadow: 0px 1px 3px 1px rgba(0, 0, 0, 0.15);\n",
              "      filter: drop-shadow(0px 1px 2px rgba(0, 0, 0, 0.3));\n",
              "      fill: #FFFFFF;\n",
              "    }\n",
              "  </style>\n",
              "\n",
              "      <script>\n",
              "        const buttonEl =\n",
              "          document.querySelector('#df-ddfff335-4a6e-46e5-aa7a-646ece7d5caf button.colab-df-convert');\n",
              "        buttonEl.style.display =\n",
              "          google.colab.kernel.accessAllowed ? 'block' : 'none';\n",
              "\n",
              "        async function convertToInteractive(key) {\n",
              "          const element = document.querySelector('#df-ddfff335-4a6e-46e5-aa7a-646ece7d5caf');\n",
              "          const dataTable =\n",
              "            await google.colab.kernel.invokeFunction('convertToInteractive',\n",
              "                                                     [key], {});\n",
              "          if (!dataTable) return;\n",
              "\n",
              "          const docLinkHtml = 'Like what you see? Visit the ' +\n",
              "            '<a target=\"_blank\" href=https://colab.research.google.com/notebooks/data_table.ipynb>data table notebook</a>'\n",
              "            + ' to learn more about interactive tables.';\n",
              "          element.innerHTML = '';\n",
              "          dataTable['output_type'] = 'display_data';\n",
              "          await google.colab.output.renderOutput(dataTable, element);\n",
              "          const docLink = document.createElement('div');\n",
              "          docLink.innerHTML = docLinkHtml;\n",
              "          element.appendChild(docLink);\n",
              "        }\n",
              "      </script>\n",
              "    </div>\n",
              "  </div>\n",
              "  "
            ],
            "text/plain": [
              "                                                   tweet  neutral  \\\n",
              "0      RT @bender3395: I'm never playing flappy bird ...        0   \n",
              "1      RT @JackBPR: Alec Baldwin mocks Harris-Perry: ...        0   \n",
              "2                           Gay ass hillbilly intro song        0   \n",
              "3      Photo: Giving you that trailer park trash. #tr...        0   \n",
              "4      I uploaded a @YouTube video http://t.co/JHUuZp...        0   \n",
              "...                                                  ...      ...   \n",
              "23467  I love watching birds migrate. Wish I understo...        1   \n",
              "23468  @stevedischiavi Thanks 'Walking Dead' Bro Stev...        1   \n",
              "23469  Mark Teixeira finally stepping up, HR and coup...        1   \n",
              "23470  Yellow jackets at gas station trash cans are T...        0   \n",
              "23471  Already more yellows than the last 2 years com...        1   \n",
              "\n",
              "       general criticism  disability shaming  racial prejudice  sexism  \\\n",
              "0                      0                   0                 0       0   \n",
              "1                      0                   0                 0       0   \n",
              "2                      0                   0                 0       0   \n",
              "3                      0                   0                 0       0   \n",
              "4                      0                   0                 0       0   \n",
              "...                  ...                 ...               ...     ...   \n",
              "23467                  0                   0                 0       0   \n",
              "23468                  0                   0                 0       0   \n",
              "23469                  0                   0                 0       0   \n",
              "23470                  1                   0                 0       0   \n",
              "23471                  0                   0                 0       0   \n",
              "\n",
              "       lgbtq+ phobic  \n",
              "0                  1  \n",
              "1                  1  \n",
              "2                  1  \n",
              "3                  1  \n",
              "4                  1  \n",
              "...              ...  \n",
              "23467              0  \n",
              "23468              0  \n",
              "23469              0  \n",
              "23470              0  \n",
              "23471              0  \n",
              "\n",
              "[22636 rows x 7 columns]"
            ]
          },
          "execution_count": 10,
          "metadata": {},
          "output_type": "execute_result"
        }
      ],
      "source": [
        "df"
      ]
    },
    {
      "cell_type": "markdown",
      "metadata": {
        "id": "qt3RavMe4KRi"
      },
      "source": [
        "# Preprocessing"
      ]
    },
    {
      "cell_type": "code",
      "execution_count": 11,
      "metadata": {
        "colab": {
          "base_uri": "https://localhost:8080/",
          "height": 1000
        },
        "id": "QpU4ZHwiULYI",
        "outputId": "63890566-886f-46b0-8f9c-59acc3f3e04f"
      },
      "outputs": [
        {
          "name": "stderr",
          "output_type": "stream",
          "text": [
            "C:\\Users\\evans\\AppData\\Local\\Temp\\ipykernel_14248\\3219488846.py:5: SettingWithCopyWarning: \n",
            "A value is trying to be set on a copy of a slice from a DataFrame.\n",
            "Try using .loc[row_indexer,col_indexer] = value instead\n",
            "\n",
            "See the caveats in the documentation: https://pandas.pydata.org/pandas-docs/stable/user_guide/indexing.html#returning-a-view-versus-a-copy\n",
            "  dataframe[column] = dataframe[column].apply(lambda tweet: re.sub(r'''(?i)\\b((?:https?://|www\\d{0,3}[.]|[a-z0-9.\\-]+[.][a-z]{2,4}/)(?:[^\\s()<>]+|\\(([^\\s()<>]+|(\\([^\\s()<>]+\\)))*\\))+(?:\\(([^\\s()<>]+|(\\([^\\s()<>]+\\)))*\\)|[^\\s`!()\\[\\]{};:'\".,<>?«»“”‘’]))''', \" \", tweet))\n",
            "C:\\Users\\evans\\AppData\\Local\\Temp\\ipykernel_14248\\3219488846.py:6: SettingWithCopyWarning: \n",
            "A value is trying to be set on a copy of a slice from a DataFrame.\n",
            "Try using .loc[row_indexer,col_indexer] = value instead\n",
            "\n",
            "See the caveats in the documentation: https://pandas.pydata.org/pandas-docs/stable/user_guide/indexing.html#returning-a-view-versus-a-copy\n",
            "  dataframe[column] = dataframe[column].apply(lambda tweet: re.sub('@[^\\s]+','',tweet))\n",
            "C:\\Users\\evans\\AppData\\Local\\Temp\\ipykernel_14248\\3219488846.py:7: SettingWithCopyWarning: \n",
            "A value is trying to be set on a copy of a slice from a DataFrame.\n",
            "Try using .loc[row_indexer,col_indexer] = value instead\n",
            "\n",
            "See the caveats in the documentation: https://pandas.pydata.org/pandas-docs/stable/user_guide/indexing.html#returning-a-view-versus-a-copy\n",
            "  dataframe[column] = dataframe[column].replace(to_replace=r'\\d+', value='', regex = True)\n",
            "C:\\Users\\evans\\AppData\\Local\\Temp\\ipykernel_14248\\3219488846.py:9: SettingWithCopyWarning: \n",
            "A value is trying to be set on a copy of a slice from a DataFrame.\n",
            "Try using .loc[row_indexer,col_indexer] = value instead\n",
            "\n",
            "See the caveats in the documentation: https://pandas.pydata.org/pandas-docs/stable/user_guide/indexing.html#returning-a-view-versus-a-copy\n",
            "  dataframe[column] = dataframe[column].str.replace('[^A-Za-z0-9 ]+','')\n",
            "C:\\Users\\evans\\AppData\\Local\\Temp\\ipykernel_14248\\3219488846.py:17: SettingWithCopyWarning: \n",
            "A value is trying to be set on a copy of a slice from a DataFrame.\n",
            "Try using .loc[row_indexer,col_indexer] = value instead\n",
            "\n",
            "See the caveats in the documentation: https://pandas.pydata.org/pandas-docs/stable/user_guide/indexing.html#returning-a-view-versus-a-copy\n",
            "  dataframe[column] = dataframe[column].apply(lambda tweet: emoji_pattern.sub(r'', tweet)) # no emoji\n",
            "C:\\Users\\evans\\AppData\\Local\\Temp\\ipykernel_14248\\3219488846.py:19: SettingWithCopyWarning: \n",
            "A value is trying to be set on a copy of a slice from a DataFrame.\n",
            "Try using .loc[row_indexer,col_indexer] = value instead\n",
            "\n",
            "See the caveats in the documentation: https://pandas.pydata.org/pandas-docs/stable/user_guide/indexing.html#returning-a-view-versus-a-copy\n",
            "  dataframe[column] = dataframe[column].apply(lambda tweet: tweet.replace('RT', ''))\n"
          ]
        },
        {
          "data": {
            "text/html": [
              "<div>\n",
              "<style scoped>\n",
              "    .dataframe tbody tr th:only-of-type {\n",
              "        vertical-align: middle;\n",
              "    }\n",
              "\n",
              "    .dataframe tbody tr th {\n",
              "        vertical-align: top;\n",
              "    }\n",
              "\n",
              "    .dataframe thead th {\n",
              "        text-align: right;\n",
              "    }\n",
              "</style>\n",
              "<table border=\"1\" class=\"dataframe\">\n",
              "  <thead>\n",
              "    <tr style=\"text-align: right;\">\n",
              "      <th></th>\n",
              "      <th>tweet</th>\n",
              "      <th>neutral</th>\n",
              "      <th>general criticism</th>\n",
              "      <th>disability shaming</th>\n",
              "      <th>racial prejudice</th>\n",
              "      <th>sexism</th>\n",
              "      <th>lgbtq+ phobic</th>\n",
              "    </tr>\n",
              "  </thead>\n",
              "  <tbody>\n",
              "    <tr>\n",
              "      <th>0</th>\n",
              "      <td>I'm never playing flappy bird again ever fuc...</td>\n",
              "      <td>0</td>\n",
              "      <td>0</td>\n",
              "      <td>0</td>\n",
              "      <td>0</td>\n",
              "      <td>0</td>\n",
              "      <td>1</td>\n",
              "    </tr>\n",
              "    <tr>\n",
              "      <th>1</th>\n",
              "      <td>Alec Baldwin mocks Harris-Perry: &amp;#;If I cry...</td>\n",
              "      <td>0</td>\n",
              "      <td>0</td>\n",
              "      <td>0</td>\n",
              "      <td>0</td>\n",
              "      <td>0</td>\n",
              "      <td>1</td>\n",
              "    </tr>\n",
              "    <tr>\n",
              "      <th>2</th>\n",
              "      <td>Gay ass hillbilly intro song</td>\n",
              "      <td>0</td>\n",
              "      <td>0</td>\n",
              "      <td>0</td>\n",
              "      <td>0</td>\n",
              "      <td>0</td>\n",
              "      <td>1</td>\n",
              "    </tr>\n",
              "    <tr>\n",
              "      <th>3</th>\n",
              "      <td>Photo: Giving you that trailer park trash. #tr...</td>\n",
              "      <td>0</td>\n",
              "      <td>0</td>\n",
              "      <td>0</td>\n",
              "      <td>0</td>\n",
              "      <td>0</td>\n",
              "      <td>1</td>\n",
              "    </tr>\n",
              "    <tr>\n",
              "      <th>4</th>\n",
              "      <td>I uploaded a  video   UPDATE ON UGANDA ANTI-GA...</td>\n",
              "      <td>0</td>\n",
              "      <td>0</td>\n",
              "      <td>0</td>\n",
              "      <td>0</td>\n",
              "      <td>0</td>\n",
              "      <td>1</td>\n",
              "    </tr>\n",
              "    <tr>\n",
              "      <th>...</th>\n",
              "      <td>...</td>\n",
              "      <td>...</td>\n",
              "      <td>...</td>\n",
              "      <td>...</td>\n",
              "      <td>...</td>\n",
              "      <td>...</td>\n",
              "      <td>...</td>\n",
              "    </tr>\n",
              "    <tr>\n",
              "      <th>23467</th>\n",
              "      <td>I love watching birds migrate. Wish I understo...</td>\n",
              "      <td>1</td>\n",
              "      <td>0</td>\n",
              "      <td>0</td>\n",
              "      <td>0</td>\n",
              "      <td>0</td>\n",
              "      <td>0</td>\n",
              "    </tr>\n",
              "    <tr>\n",
              "      <th>23468</th>\n",
              "      <td>Thanks 'Walking Dead' Bro Steve For Mend..USM...</td>\n",
              "      <td>1</td>\n",
              "      <td>0</td>\n",
              "      <td>0</td>\n",
              "      <td>0</td>\n",
              "      <td>0</td>\n",
              "      <td>0</td>\n",
              "    </tr>\n",
              "    <tr>\n",
              "      <th>23469</th>\n",
              "      <td>Mark Teixeira finally stepping up, HR and coup...</td>\n",
              "      <td>1</td>\n",
              "      <td>0</td>\n",
              "      <td>0</td>\n",
              "      <td>0</td>\n",
              "      <td>0</td>\n",
              "      <td>0</td>\n",
              "    </tr>\n",
              "    <tr>\n",
              "      <th>23470</th>\n",
              "      <td>Yellow jackets at gas station trash cans are T...</td>\n",
              "      <td>0</td>\n",
              "      <td>1</td>\n",
              "      <td>0</td>\n",
              "      <td>0</td>\n",
              "      <td>0</td>\n",
              "      <td>0</td>\n",
              "    </tr>\n",
              "    <tr>\n",
              "      <th>23471</th>\n",
              "      <td>Already more yellows than the last  years comb...</td>\n",
              "      <td>1</td>\n",
              "      <td>0</td>\n",
              "      <td>0</td>\n",
              "      <td>0</td>\n",
              "      <td>0</td>\n",
              "      <td>0</td>\n",
              "    </tr>\n",
              "  </tbody>\n",
              "</table>\n",
              "<p>22636 rows × 7 columns</p>\n",
              "</div>"
            ],
            "text/plain": [
              "                                                   tweet  neutral  \\\n",
              "0        I'm never playing flappy bird again ever fuc...        0   \n",
              "1        Alec Baldwin mocks Harris-Perry: &#;If I cry...        0   \n",
              "2                           Gay ass hillbilly intro song        0   \n",
              "3      Photo: Giving you that trailer park trash. #tr...        0   \n",
              "4      I uploaded a  video   UPDATE ON UGANDA ANTI-GA...        0   \n",
              "...                                                  ...      ...   \n",
              "23467  I love watching birds migrate. Wish I understo...        1   \n",
              "23468   Thanks 'Walking Dead' Bro Steve For Mend..USM...        1   \n",
              "23469  Mark Teixeira finally stepping up, HR and coup...        1   \n",
              "23470  Yellow jackets at gas station trash cans are T...        0   \n",
              "23471  Already more yellows than the last  years comb...        1   \n",
              "\n",
              "       general criticism  disability shaming  racial prejudice  sexism  \\\n",
              "0                      0                   0                 0       0   \n",
              "1                      0                   0                 0       0   \n",
              "2                      0                   0                 0       0   \n",
              "3                      0                   0                 0       0   \n",
              "4                      0                   0                 0       0   \n",
              "...                  ...                 ...               ...     ...   \n",
              "23467                  0                   0                 0       0   \n",
              "23468                  0                   0                 0       0   \n",
              "23469                  0                   0                 0       0   \n",
              "23470                  1                   0                 0       0   \n",
              "23471                  0                   0                 0       0   \n",
              "\n",
              "       lgbtq+ phobic  \n",
              "0                  1  \n",
              "1                  1  \n",
              "2                  1  \n",
              "3                  1  \n",
              "4                  1  \n",
              "...              ...  \n",
              "23467              0  \n",
              "23468              0  \n",
              "23469              0  \n",
              "23470              0  \n",
              "23471              0  \n",
              "\n",
              "[22636 rows x 7 columns]"
            ]
          },
          "execution_count": 11,
          "metadata": {},
          "output_type": "execute_result"
        }
      ],
      "source": [
        "import re\n",
        "\n",
        "\n",
        "# remove urls from any tweets, remove usernames (\"@etc\"), emojis, and remove all numbers\n",
        "def clean_data(dataframe, column):\n",
        "    dataframe[column] = dataframe[column].apply(\n",
        "        lambda tweet: re.sub(\n",
        "            r\"\"\"(?i)\\b((?:https?://|www\\d{0,3}[.]|[a-z0-9.\\-]+[.][a-z]{2,4}/)(?:[^\\s()<>]+|\\(([^\\s()<>]+|(\\([^\\s()<>]+\\)))*\\))+(?:\\(([^\\s()<>]+|(\\([^\\s()<>]+\\)))*\\)|[^\\s`!()\\[\\]{};:'\".,<>?«»“”‘’]))\"\"\",\n",
        "            \" \",\n",
        "            tweet,\n",
        "        )\n",
        "    )\n",
        "    dataframe[column] = dataframe[column].apply(\n",
        "        lambda tweet: re.sub(\"@[^\\s]+\", \"\", tweet)\n",
        "    )\n",
        "    dataframe[column] = dataframe[column].replace(\n",
        "        to_replace=r\"\\d+\", value=\"\", regex=True\n",
        "    )\n",
        "    # Removing punctuation:\n",
        "    dataframe[column] = dataframe[column].str.replace(\"[^A-Za-z0-9 ]+\", \"\")\n",
        "    # removing emojis\n",
        "    emoji_pattern = re.compile(\n",
        "        \"[\"\n",
        "        \"\\U0001F600-\\U0001F64F\"  # emoticons\n",
        "        \"\\U0001F300-\\U0001F5FF\"  # symbols & pictographs\n",
        "        \"\\U0001F680-\\U0001F6FF\"  # transport & map symbols\n",
        "        \"\\U0001F1E0-\\U0001F1FF\"  # flags (iOS)\n",
        "        \"]+\",\n",
        "        flags=re.UNICODE,\n",
        "    )\n",
        "    dataframe[column] = dataframe[column].apply(\n",
        "        lambda tweet: emoji_pattern.sub(r\"\", tweet)\n",
        "    )  # no emoji\n",
        "    # removing RT from tweets\n",
        "    dataframe[column] = dataframe[column].apply(lambda tweet: tweet.replace(\"RT\", \"\"))\n",
        "    return dataframe\n",
        "\n",
        "\n",
        "clean_data(df, \"tweet\")"
      ]
    },
    {
      "cell_type": "code",
      "execution_count": 12,
      "metadata": {
        "colab": {
          "base_uri": "https://localhost:8080/"
        },
        "id": "SuKz1fDe9rie",
        "outputId": "1c85863e-6f56-4804-a994-434574456bc0"
      },
      "outputs": [
        {
          "data": {
            "text/plain": [
              "((21504, 7), (1132, 7))"
            ]
          },
          "execution_count": 12,
          "metadata": {},
          "output_type": "execute_result"
        }
      ],
      "source": [
        "def split_data(dataframe):\n",
        "    train_df, val_df = train_test_split(dataframe, test_size=0.05)\n",
        "    return train_df, val_df\n",
        "\n",
        "\n",
        "train_df, val_df = split_data(df)\n",
        "\n",
        "\n",
        "train_df.shape, val_df.shape"
      ]
    },
    {
      "cell_type": "markdown",
      "metadata": {
        "id": "ufcFUNYa4MBt"
      },
      "source": [
        "Looking at Distribution of the Labels "
      ]
    },
    {
      "cell_type": "code",
      "execution_count": 13,
      "metadata": {
        "colab": {
          "base_uri": "https://localhost:8080/",
          "height": 607
        },
        "id": "YrLAijye9MCG",
        "outputId": "e4ad2730-cc93-486a-9fce-13c1cce46976"
      },
      "outputs": [
        {
          "data": {
            "text/html": [
              "<div>\n",
              "<style scoped>\n",
              "    .dataframe tbody tr th:only-of-type {\n",
              "        vertical-align: middle;\n",
              "    }\n",
              "\n",
              "    .dataframe tbody tr th {\n",
              "        vertical-align: top;\n",
              "    }\n",
              "\n",
              "    .dataframe thead th {\n",
              "        text-align: right;\n",
              "    }\n",
              "</style>\n",
              "<table border=\"1\" class=\"dataframe\">\n",
              "  <thead>\n",
              "    <tr style=\"text-align: right;\">\n",
              "      <th></th>\n",
              "      <th>tweet</th>\n",
              "      <th>neutral</th>\n",
              "      <th>general criticism</th>\n",
              "      <th>disability shaming</th>\n",
              "      <th>racial prejudice</th>\n",
              "      <th>sexism</th>\n",
              "      <th>lgbtq+ phobic</th>\n",
              "    </tr>\n",
              "  </thead>\n",
              "  <tbody>\n",
              "    <tr>\n",
              "      <th>326</th>\n",
              "      <td>mickeyblowsyourmind: who wants to be a skype g...</td>\n",
              "      <td>0</td>\n",
              "      <td>0</td>\n",
              "      <td>0</td>\n",
              "      <td>0</td>\n",
              "      <td>0</td>\n",
              "      <td>1</td>\n",
              "    </tr>\n",
              "    <tr>\n",
              "      <th>5024</th>\n",
              "      <td>When you see  about to fight a bitch ....</td>\n",
              "      <td>0</td>\n",
              "      <td>0</td>\n",
              "      <td>0</td>\n",
              "      <td>0</td>\n",
              "      <td>1</td>\n",
              "      <td>0</td>\n",
              "    </tr>\n",
              "    <tr>\n",
              "      <th>19450</th>\n",
              "      <td>woof woof</td>\n",
              "      <td>1</td>\n",
              "      <td>0</td>\n",
              "      <td>0</td>\n",
              "      <td>0</td>\n",
              "      <td>0</td>\n",
              "      <td>0</td>\n",
              "    </tr>\n",
              "    <tr>\n",
              "      <th>22795</th>\n",
              "      <td>Charlie Daniels couldve done a better job! #MNF</td>\n",
              "      <td>1</td>\n",
              "      <td>0</td>\n",
              "      <td>0</td>\n",
              "      <td>0</td>\n",
              "      <td>0</td>\n",
              "      <td>0</td>\n",
              "    </tr>\n",
              "    <tr>\n",
              "      <th>12140</th>\n",
              "      <td>#RayRice is a bitch. #JustSaying</td>\n",
              "      <td>0</td>\n",
              "      <td>0</td>\n",
              "      <td>0</td>\n",
              "      <td>0</td>\n",
              "      <td>1</td>\n",
              "      <td>0</td>\n",
              "    </tr>\n",
              "    <tr>\n",
              "      <th>...</th>\n",
              "      <td>...</td>\n",
              "      <td>...</td>\n",
              "      <td>...</td>\n",
              "      <td>...</td>\n",
              "      <td>...</td>\n",
              "      <td>...</td>\n",
              "      <td>...</td>\n",
              "    </tr>\n",
              "    <tr>\n",
              "      <th>12018</th>\n",
              "      <td>&amp;#; I heard thigh gaps is a way of telling if ...</td>\n",
              "      <td>0</td>\n",
              "      <td>0</td>\n",
              "      <td>0</td>\n",
              "      <td>0</td>\n",
              "      <td>1</td>\n",
              "      <td>0</td>\n",
              "    </tr>\n",
              "    <tr>\n",
              "      <th>22403</th>\n",
              "      <td>&amp;#; Michael Pineda hides pine tar...on his nec...</td>\n",
              "      <td>0</td>\n",
              "      <td>1</td>\n",
              "      <td>0</td>\n",
              "      <td>0</td>\n",
              "      <td>0</td>\n",
              "      <td>0</td>\n",
              "    </tr>\n",
              "    <tr>\n",
              "      <th>5442</th>\n",
              "      <td>Both y'all pussy son beat it</td>\n",
              "      <td>0</td>\n",
              "      <td>0</td>\n",
              "      <td>0</td>\n",
              "      <td>0</td>\n",
              "      <td>1</td>\n",
              "      <td>0</td>\n",
              "    </tr>\n",
              "    <tr>\n",
              "      <th>901</th>\n",
              "      <td>I can tell from this tweet that you're a twat.</td>\n",
              "      <td>0</td>\n",
              "      <td>0</td>\n",
              "      <td>0</td>\n",
              "      <td>0</td>\n",
              "      <td>1</td>\n",
              "      <td>0</td>\n",
              "    </tr>\n",
              "    <tr>\n",
              "      <th>16426</th>\n",
              "      <td>...wow?   Whatever! Fuck all those assholes....</td>\n",
              "      <td>0</td>\n",
              "      <td>0</td>\n",
              "      <td>0</td>\n",
              "      <td>1</td>\n",
              "      <td>0</td>\n",
              "      <td>0</td>\n",
              "    </tr>\n",
              "  </tbody>\n",
              "</table>\n",
              "<p>21504 rows × 7 columns</p>\n",
              "</div>"
            ],
            "text/plain": [
              "                                                   tweet  neutral  \\\n",
              "326    mickeyblowsyourmind: who wants to be a skype g...        0   \n",
              "5024         When you see  about to fight a bitch ....          0   \n",
              "19450                                          woof woof        1   \n",
              "22795    Charlie Daniels couldve done a better job! #MNF        1   \n",
              "12140                   #RayRice is a bitch. #JustSaying        0   \n",
              "...                                                  ...      ...   \n",
              "12018  &#; I heard thigh gaps is a way of telling if ...        0   \n",
              "22403  &#; Michael Pineda hides pine tar...on his nec...        0   \n",
              "5442                      Both y'all pussy son beat it          0   \n",
              "901       I can tell from this tweet that you're a twat.        0   \n",
              "16426    ...wow?   Whatever! Fuck all those assholes....        0   \n",
              "\n",
              "       general criticism  disability shaming  racial prejudice  sexism  \\\n",
              "326                    0                   0                 0       0   \n",
              "5024                   0                   0                 0       1   \n",
              "19450                  0                   0                 0       0   \n",
              "22795                  0                   0                 0       0   \n",
              "12140                  0                   0                 0       1   \n",
              "...                  ...                 ...               ...     ...   \n",
              "12018                  0                   0                 0       1   \n",
              "22403                  1                   0                 0       0   \n",
              "5442                   0                   0                 0       1   \n",
              "901                    0                   0                 0       1   \n",
              "16426                  0                   0                 1       0   \n",
              "\n",
              "       lgbtq+ phobic  \n",
              "326                1  \n",
              "5024               0  \n",
              "19450              0  \n",
              "22795              0  \n",
              "12140              0  \n",
              "...              ...  \n",
              "12018              0  \n",
              "22403              0  \n",
              "5442               0  \n",
              "901                0  \n",
              "16426              0  \n",
              "\n",
              "[21504 rows x 7 columns]"
            ]
          },
          "execution_count": 13,
          "metadata": {},
          "output_type": "execute_result"
        }
      ],
      "source": [
        "train_df"
      ]
    },
    {
      "cell_type": "code",
      "execution_count": 14,
      "metadata": {
        "colab": {
          "base_uri": "https://localhost:8080/"
        },
        "id": "RX_9I0CB8k56",
        "outputId": "b176e25b-3ac2-425a-b6de-ee92aec9b5ff"
      },
      "outputs": [
        {
          "data": {
            "text/plain": [
              "Index(['neutral', 'general criticism', 'disability shaming',\n",
              "       'racial prejudice', 'sexism', 'lgbtq+ phobic'],\n",
              "      dtype='object')"
            ]
          },
          "execution_count": 14,
          "metadata": {},
          "output_type": "execute_result"
        }
      ],
      "source": [
        "df.columns[1:]"
      ]
    },
    {
      "cell_type": "code",
      "execution_count": 15,
      "metadata": {
        "colab": {
          "base_uri": "https://localhost:8080/",
          "height": 488
        },
        "id": "tlgVqlhP4OOa",
        "outputId": "e2569a36-fdeb-466e-85d5-7e187d798dc8"
      },
      "outputs": [
        {
          "data": {
            "image/png": "[encoded data removed]",
            "text/plain": [
              "<Figure size 1200x800 with 1 Axes>"
            ]
          },
          "metadata": {
            "image/png": {
              "height": 666,
              "width": 1118
            }
          },
          "output_type": "display_data"
        }
      ],
      "source": [
        "LABEL_COLUMNS = df.columns.tolist()[1:]\n",
        "df[LABEL_COLUMNS].sum().sort_values().plot(kind=\"barh\")"
      ]
    },
    {
      "cell_type": "markdown",
      "metadata": {
        "id": "8TLw8XsF4wyL"
      },
      "source": [
        "# Tokenization "
      ]
    },
    {
      "cell_type": "code",
      "execution_count": 16,
      "metadata": {
        "id": "FruJ1ifC4veT"
      },
      "outputs": [
        {
          "name": "stderr",
          "output_type": "stream",
          "text": [
            "Downloading (…)okenizer_config.json: 100%|██████████| 29.0/29.0 [00:00<?, ?B/s]\n",
            "c:\\Users\\evans\\OneDrive\\Documents\\GitHub\\multi-classification-bert-model\\.venv\\lib\\site-packages\\huggingface_hub\\file_download.py:137: UserWarning: `huggingface_hub` cache-system uses symlinks by default to efficiently store duplicated files but your machine does not support them in C:\\Users\\evans\\.cache\\huggingface\\hub. Caching files will still work but in a degraded version that might require more space on your disk. This warning can be disabled by setting the `HF_HUB_DISABLE_SYMLINKS_WARNING` environment variable. For more details, see https://huggingface.co/docs/huggingface_hub/how-to-cache#limitations.\n",
            "To support symlinks on Windows, you either need to activate Developer Mode or to run Python as an administrator. In order to see activate developer mode, see this article: https://docs.microsoft.com/en-us/windows/apps/get-started/enable-your-device-for-development\n",
            "  warnings.warn(message)\n",
            "Downloading (…)solve/main/vocab.txt: 100%|██████████| 213k/213k [00:00<00:00, 7.75MB/s]\n",
            "Downloading (…)/main/tokenizer.json: 100%|██████████| 436k/436k [00:00<00:00, 33.5MB/s]\n",
            "Downloading (…)lve/main/config.json: 100%|██████████| 570/570 [00:00<?, ?B/s] \n"
          ]
        }
      ],
      "source": [
        "BERT_MODEL_NAME = \"bert-base-cased\"\n",
        "tokenizer = BertTokenizer.from_pretrained(BERT_MODEL_NAME)"
      ]
    },
    {
      "cell_type": "markdown",
      "metadata": {
        "id": "q8SEImzA5CEL"
      },
      "source": [
        "Test it out on a sample tweet "
      ]
    },
    {
      "cell_type": "code",
      "execution_count": 17,
      "metadata": {
        "colab": {
          "base_uri": "https://localhost:8080/"
        },
        "id": "ZcsrGpJw47jH",
        "outputId": "7b1f4080-b107-47d6-d3b8-408f37bf33ea"
      },
      "outputs": [
        {
          "name": "stdout",
          "output_type": "stream",
          "text": [
            " For the record #NoHomo but don't care who is unless I gotta see it.. same with every sexuality even birds, dogs.. what not.\n",
            "\n",
            "{'neutral': 0, 'general criticism': 0, 'disability shaming': 0, 'racial prejudice': 0, 'sexism': 0, 'lgbtq+ phobic': 1}\n"
          ]
        }
      ],
      "source": [
        "sample_row = df.iloc[16]\n",
        "sample_comment = sample_row.tweet\n",
        "sample_labels = sample_row[LABEL_COLUMNS]\n",
        "\n",
        "print(sample_comment)\n",
        "print()\n",
        "print(sample_labels.to_dict())"
      ]
    },
    {
      "cell_type": "code",
      "execution_count": 18,
      "metadata": {
        "colab": {
          "base_uri": "https://localhost:8080/"
        },
        "id": "XmXW4iO05cl3",
        "outputId": "633f1e98-7f83-460b-854f-0bdc93d076bd"
      },
      "outputs": [
        {
          "data": {
            "text/plain": [
              "dict_keys(['input_ids', 'attention_mask'])"
            ]
          },
          "execution_count": 18,
          "metadata": {},
          "output_type": "execute_result"
        }
      ],
      "source": [
        "encoding = tokenizer.encode_plus(\n",
        "    sample_comment,\n",
        "    add_special_tokens=True,\n",
        "    max_length=512,\n",
        "    return_token_type_ids=False,\n",
        "    padding=\"max_length\",\n",
        "    return_attention_mask=True,\n",
        "    return_tensors=\"pt\",\n",
        ")\n",
        "encoding.keys()"
      ]
    },
    {
      "cell_type": "code",
      "execution_count": 19,
      "metadata": {
        "colab": {
          "base_uri": "https://localhost:8080/"
        },
        "id": "duT4Apc65fi1",
        "outputId": "5cc1ac2e-51d9-4c66-b5e5-c072fc3f6a43"
      },
      "outputs": [
        {
          "data": {
            "text/plain": [
              "(torch.Size([1, 512]), torch.Size([1, 512]))"
            ]
          },
          "execution_count": 19,
          "metadata": {},
          "output_type": "execute_result"
        }
      ],
      "source": [
        "encoding[\"input_ids\"].shape, encoding[\"attention_mask\"].shape"
      ]
    },
    {
      "cell_type": "markdown",
      "metadata": {
        "id": "47kBgY585tu4"
      },
      "source": [
        "The result of the encoding is a dictionary with token ids input_ids and an attention mask attention_mask (which tokens should be used by the model 1 - use or 0 - don’t use).\n",
        "\n",
        "Let’s look at their contents:"
      ]
    },
    {
      "cell_type": "code",
      "execution_count": 20,
      "metadata": {
        "colab": {
          "base_uri": "https://localhost:8080/"
        },
        "id": "YJF_0qrO5tGo",
        "outputId": "6ed6ce83-a2da-443f-c633-290db5dba316"
      },
      "outputs": [
        {
          "data": {
            "text/plain": [
              "tensor([  101,  1370,  1103,  1647,   108,  1302,  3048, 18445,  1133,  1274,\n",
              "          112,   189,  1920,  1150,  1110,  4895,   146, 13224,  1267,  1122])"
            ]
          },
          "execution_count": 20,
          "metadata": {},
          "output_type": "execute_result"
        }
      ],
      "source": [
        "encoding[\"input_ids\"].squeeze()[:20]"
      ]
    },
    {
      "cell_type": "code",
      "execution_count": 21,
      "metadata": {
        "colab": {
          "base_uri": "https://localhost:8080/"
        },
        "id": "rNSSum0i56vg",
        "outputId": "edd4cf32-d663-4735-ac2f-d9ae43c62239"
      },
      "outputs": [
        {
          "data": {
            "text/plain": [
              "tensor([1, 1, 1, 1, 1, 1, 1, 1, 1, 1, 1, 1, 1, 1, 1, 1, 1, 1, 1, 1])"
            ]
          },
          "execution_count": 21,
          "metadata": {},
          "output_type": "execute_result"
        }
      ],
      "source": [
        "encoding[\"attention_mask\"].squeeze()[:20]"
      ]
    },
    {
      "cell_type": "markdown",
      "metadata": {
        "id": "b-YKEMSx6EXN"
      },
      "source": [
        "You can also inverse the tokenization and get back (kinda) the words from the token ids:"
      ]
    },
    {
      "cell_type": "code",
      "execution_count": 22,
      "metadata": {
        "colab": {
          "base_uri": "https://localhost:8080/"
        },
        "id": "gLTnacMI5-1G",
        "outputId": "af2ffc13-e911-480a-f52d-f4b4e5558d58"
      },
      "outputs": [
        {
          "name": "stdout",
          "output_type": "stream",
          "text": [
            "['[CLS]', 'For', 'the', 'record', '#', 'No', '##H', '##omo', 'but', 'don', \"'\", 't', 'care', 'who', 'is', 'unless', 'I', 'gotta', 'see', 'it']\n"
          ]
        }
      ],
      "source": [
        "print(tokenizer.convert_ids_to_tokens(encoding[\"input_ids\"].squeeze())[:20])"
      ]
    },
    {
      "cell_type": "markdown",
      "metadata": {
        "id": "TN7xyesZ6XiU"
      },
      "source": [
        "We need to specify the maximum number of tokens when encoding (512 is the maximum we can do). Let’s check the number of tokens per tweet:"
      ]
    },
    {
      "cell_type": "code",
      "execution_count": 23,
      "metadata": {
        "colab": {
          "base_uri": "https://localhost:8080/",
          "height": 562
        },
        "id": "7xucCVny6Tp4",
        "outputId": "0bf5522d-92ce-4bbc-ea8d-e3fcfb84a90a"
      },
      "outputs": [
        {
          "name": "stderr",
          "output_type": "stream",
          "text": [
            "C:\\Users\\evans\\AppData\\Local\\Temp\\ipykernel_14248\\3882513807.py:10: UserWarning: \n",
            "\n",
            "`distplot` is a deprecated function and will be removed in seaborn v0.14.0.\n",
            "\n",
            "Please adapt your code to use either `displot` (a figure-level function with\n",
            "similar flexibility) or `histplot` (an axes-level function for histograms).\n",
            "\n",
            "For a guide to updating your code to use the new functions, please see\n",
            "https://gist.github.com/mwaskom/de44147ed2974457ad6372750bbe5751\n",
            "\n",
            "  sns.distplot(token_counts)\n",
            "c:\\Users\\evans\\OneDrive\\Documents\\GitHub\\multi-classification-bert-model\\.venv\\lib\\site-packages\\seaborn\\_oldcore.py:1498: FutureWarning: is_categorical_dtype is deprecated and will be removed in a future version. Use isinstance(dtype, CategoricalDtype) instead\n",
            "  if pd.api.types.is_categorical_dtype(vector):\n",
            "c:\\Users\\evans\\OneDrive\\Documents\\GitHub\\multi-classification-bert-model\\.venv\\lib\\site-packages\\seaborn\\_oldcore.py:1119: FutureWarning: use_inf_as_na option is deprecated and will be removed in a future version. Convert inf values to NaN before operating instead.\n",
            "  with pd.option_context('mode.use_inf_as_na', True):\n"
          ]
        },
        {
          "data": {
            "image/png": "[encoded data removed]",
            "text/plain": [
              "<Figure size 1200x800 with 1 Axes>"
            ]
          },
          "metadata": {
            "image/png": {
              "height": 689,
              "width": 1032
            }
          },
          "output_type": "display_data"
        }
      ],
      "source": [
        "token_counts = []\n",
        "for _, row in train_df.iterrows():\n",
        "    token_count = len(tokenizer.encode(row[\"tweet\"], max_length=512, truncation=True))\n",
        "    token_counts.append(token_count)\n",
        "\n",
        "sns.distplot(token_counts)\n",
        "plt.xlim([0, 256])\n",
        "plt.xlabel(\"Token count\")"
      ]
    },
    {
      "cell_type": "markdown",
      "metadata": {
        "id": "GbPgD44n60NW"
      },
      "source": [
        "Most of the tweets contain less than 50 tokens. So, we’ll stick with the limit of 50."
      ]
    },
    {
      "cell_type": "code",
      "execution_count": 24,
      "metadata": {
        "id": "wcHSaxyK68SU"
      },
      "outputs": [],
      "source": [
        "MAX_TOKEN_COUNT = 50"
      ]
    },
    {
      "cell_type": "markdown",
      "metadata": {
        "id": "VuME9Fbf7N-c"
      },
      "source": [
        "# Dataset "
      ]
    },
    {
      "cell_type": "markdown",
      "metadata": {
        "id": "K915jfRf7RaA"
      },
      "source": [
        "We’ll wrap the tokenization process in a PyTorch Dataset, along with converting the labels to tensors:"
      ]
    },
    {
      "cell_type": "code",
      "execution_count": 25,
      "metadata": {
        "id": "B4fBoPkL7AwX"
      },
      "outputs": [],
      "source": [
        "class TweetsDataset(Dataset):\n",
        "    def __init__(\n",
        "        self,\n",
        "        data: pd.DataFrame,\n",
        "        tokenizer: BertTokenizer,\n",
        "        max_token_len: int = 128\n",
        "        # max_token_len: int = 60\n",
        "    ):\n",
        "        self.tokenizer = tokenizer\n",
        "        self.data = data\n",
        "        self.max_token_len = max_token_len\n",
        "\n",
        "    def __len__(self):\n",
        "        return len(self.data)\n",
        "\n",
        "    def __getitem__(self, index: int):\n",
        "        data_row = self.data.iloc[index]\n",
        "        comment_text = data_row.tweet\n",
        "        labels = data_row[LABEL_COLUMNS]\n",
        "        encoding = self.tokenizer.encode_plus(\n",
        "            comment_text,\n",
        "            add_special_tokens=True,\n",
        "            max_length=self.max_token_len,\n",
        "            return_token_type_ids=False,\n",
        "            padding=\"max_length\",\n",
        "            truncation=True,\n",
        "            return_attention_mask=True,\n",
        "            return_tensors=\"pt\",\n",
        "        )\n",
        "        return dict(\n",
        "            comment_text=comment_text,\n",
        "            input_ids=encoding[\"input_ids\"].flatten(),\n",
        "            attention_mask=encoding[\"attention_mask\"].flatten(),\n",
        "            labels=torch.FloatTensor(labels),\n",
        "        )"
      ]
    },
    {
      "cell_type": "markdown",
      "metadata": {
        "id": "3WZeXtBX8Eaa"
      },
      "source": [
        "Let’s have a look at a sample item from the dataset:"
      ]
    },
    {
      "cell_type": "code",
      "execution_count": 26,
      "metadata": {
        "colab": {
          "base_uri": "https://localhost:8080/"
        },
        "id": "B5C_xdTE8ABO",
        "outputId": "df13cd7a-d34d-4e20-98f8-8fbf24d03e1d"
      },
      "outputs": [
        {
          "name": "stderr",
          "output_type": "stream",
          "text": [
            "C:\\Users\\evans\\AppData\\Local\\Temp\\ipykernel_14248\\4025360812.py:32: FutureWarning: Series.__getitem__ treating keys as positions is deprecated. In a future version, integer keys will always be treated as labels (consistent with DataFrame behavior). To access a value by position, use `ser.iloc[pos]`\n",
            "  labels=torch.FloatTensor(labels)\n"
          ]
        },
        {
          "data": {
            "text/plain": [
              "dict_keys(['comment_text', 'input_ids', 'attention_mask', 'labels'])"
            ]
          },
          "execution_count": 26,
          "metadata": {},
          "output_type": "execute_result"
        }
      ],
      "source": [
        "train_dataset = TweetsDataset(train_df, tokenizer, max_token_len=MAX_TOKEN_COUNT)\n",
        "sample_item = train_dataset[0]\n",
        "sample_item.keys()"
      ]
    },
    {
      "cell_type": "code",
      "execution_count": 27,
      "metadata": {
        "colab": {
          "base_uri": "https://localhost:8080/",
          "height": 53
        },
        "id": "y-zBZrRO8W_y",
        "outputId": "4a7f5099-9977-44f3-843c-4006c3d45c3e"
      },
      "outputs": [
        {
          "data": {
            "text/plain": [
              "'mickeyblowsyourmind: who wants to be a skype group with a bunch of offensive new york city queer folk Me!...  '"
            ]
          },
          "execution_count": 27,
          "metadata": {},
          "output_type": "execute_result"
        }
      ],
      "source": [
        "sample_item[\"comment_text\"]"
      ]
    },
    {
      "cell_type": "code",
      "execution_count": 28,
      "metadata": {
        "colab": {
          "base_uri": "https://localhost:8080/"
        },
        "id": "iJHS3qYP8X_J",
        "outputId": "c5868324-3e70-4d6c-9612-6868e710ee66"
      },
      "outputs": [
        {
          "data": {
            "text/plain": [
              "tensor([0., 0., 0., 0., 0., 1.])"
            ]
          },
          "execution_count": 28,
          "metadata": {},
          "output_type": "execute_result"
        }
      ],
      "source": [
        "sample_item[\"labels\"]"
      ]
    },
    {
      "cell_type": "code",
      "execution_count": 29,
      "metadata": {
        "colab": {
          "base_uri": "https://localhost:8080/"
        },
        "id": "g20YNomM8ckB",
        "outputId": "24091e21-2b0d-42a1-e563-993f44e8a6a8"
      },
      "outputs": [
        {
          "data": {
            "text/plain": [
              "torch.Size([50])"
            ]
          },
          "execution_count": 29,
          "metadata": {},
          "output_type": "execute_result"
        }
      ],
      "source": [
        "sample_item[\"input_ids\"].shape"
      ]
    },
    {
      "cell_type": "markdown",
      "metadata": {
        "id": "3PuflpCs8rLf"
      },
      "source": [
        "Let’s load the BERT model and pass a sample of batch data through:"
      ]
    },
    {
      "cell_type": "code",
      "execution_count": 30,
      "metadata": {
        "colab": {
          "base_uri": "https://localhost:8080/"
        },
        "id": "hYepF2mc8qlf",
        "outputId": "e2903642-8d16-4c72-d503-68d11e09a19c"
      },
      "outputs": [
        {
          "name": "stderr",
          "output_type": "stream",
          "text": [
            "Downloading model.safetensors: 100%|██████████| 436M/436M [00:06<00:00, 66.3MB/s] \n"
          ]
        }
      ],
      "source": [
        "bert_model = BertModel.from_pretrained(BERT_MODEL_NAME, return_dict=True)\n",
        "sample_batch = next(iter(DataLoader(train_dataset, batch_size=8, num_workers=2)))\n",
        "sample_batch[\"input_ids\"].shape, sample_batch[\"attention_mask\"].shape"
      ]
    },
    {
      "cell_type": "code",
      "execution_count": null,
      "metadata": {
        "colab": {
          "base_uri": "https://localhost:8080/"
        },
        "id": "MquQM3eX83Dm",
        "outputId": "56b5e5cd-f791-4823-99e4-94271e86a73e"
      },
      "outputs": [
        {
          "data": {
            "text/plain": [
              "(torch.Size([8, 50, 768]), torch.Size([8, 768]))"
            ]
          },
          "execution_count": 31,
          "metadata": {},
          "output_type": "execute_result"
        }
      ],
      "source": [
        "output = bert_model(sample_batch[\"input_ids\"], sample_batch[\"attention_mask\"])\n",
        "output.last_hidden_state.shape, output.pooler_output.shape"
      ]
    },
    {
      "cell_type": "markdown",
      "metadata": {
        "id": "tx1ikl2f9EKm"
      },
      "source": [
        "The 768 dimension comes from the BERT hidden size:"
      ]
    },
    {
      "cell_type": "code",
      "execution_count": null,
      "metadata": {
        "colab": {
          "base_uri": "https://localhost:8080/"
        },
        "id": "bquYLzPn9S6x",
        "outputId": "9fc52b78-ff82-4cc2-e307-b711a9df5bec"
      },
      "outputs": [
        {
          "data": {
            "text/plain": [
              "768"
            ]
          },
          "execution_count": 32,
          "metadata": {},
          "output_type": "execute_result"
        }
      ],
      "source": [
        "bert_model.config.hidden_size"
      ]
    },
    {
      "cell_type": "markdown",
      "metadata": {
        "id": "QF3ZydDG9WPq"
      },
      "source": [
        "The larger version of BERT has more attention heads and a larger hidden size.\n",
        "\n",
        "We’ll wrap our custom dataset into a LightningDataModule:"
      ]
    },
    {
      "cell_type": "code",
      "execution_count": null,
      "metadata": {
        "id": "C156wlrE9XHC"
      },
      "outputs": [],
      "source": [
        "class TweetsDataModule(pl.LightningDataModule):\n",
        "    def __init__(self, train_df, test_df, tokenizer, batch_size=8, max_token_len=128):\n",
        "        super().__init__()\n",
        "        self.batch_size = batch_size\n",
        "        self.train_df = train_df\n",
        "        self.test_df = test_df\n",
        "        self.tokenizer = tokenizer\n",
        "        self.max_token_len = max_token_len\n",
        "\n",
        "    def setup(self, stage=None):\n",
        "        self.train_dataset = TweetsDataset(\n",
        "            self.train_df, self.tokenizer, self.max_token_len\n",
        "        )\n",
        "        self.test_dataset = TweetsDataset(\n",
        "            self.test_df, self.tokenizer, self.max_token_len\n",
        "        )\n",
        "\n",
        "    def train_dataloader(self):\n",
        "        return DataLoader(\n",
        "            self.train_dataset, batch_size=self.batch_size, shuffle=True, num_workers=8\n",
        "        )\n",
        "\n",
        "    def val_dataloader(self):\n",
        "        return DataLoader(self.test_dataset, batch_size=self.batch_size, num_workers=8)\n",
        "\n",
        "    def test_dataloader(self):\n",
        "        return DataLoader(self.test_dataset, batch_size=self.batch_size, num_workers=8)"
      ]
    },
    {
      "cell_type": "markdown",
      "metadata": {
        "id": "Yr8bfRBN90sn"
      },
      "source": [
        "TweetsDataModule encapsulates all data loading logic and returns the necessary data loaders. Let’s create an instance of our data module:"
      ]
    },
    {
      "cell_type": "code",
      "execution_count": null,
      "metadata": {
        "id": "ry-a-OOs9uAz"
      },
      "outputs": [],
      "source": [
        "N_EPOCHS = 2\n",
        "BATCH_SIZE = 32\n",
        "data_module = TweetsDataModule(\n",
        "    train_df, val_df, tokenizer, batch_size=BATCH_SIZE, max_token_len=MAX_TOKEN_COUNT\n",
        ")"
      ]
    },
    {
      "cell_type": "markdown",
      "metadata": {
        "id": "6S_MAroS-NAh"
      },
      "source": [
        "# Model"
      ]
    },
    {
      "cell_type": "markdown",
      "metadata": {
        "id": "bdEnRH3n-EAp"
      },
      "source": [
        "Our model will use a pre-trained BertModel and a linear layer to convert the BERT representation to a classification task. We’ll pack everything in a LightningModule:"
      ]
    },
    {
      "cell_type": "code",
      "execution_count": null,
      "metadata": {
        "id": "Rrc08S6Q-Ewm"
      },
      "outputs": [],
      "source": [
        "class TweetTagger(pl.LightningModule):\n",
        "    def __init__(self, n_classes: int, n_training_steps=None, n_warmup_steps=None):\n",
        "        super().__init__()\n",
        "        self.bert = BertModel.from_pretrained(BERT_MODEL_NAME, return_dict=True)\n",
        "        self.classifier = nn.Linear(self.bert.config.hidden_size, n_classes)\n",
        "        self.n_training_steps = n_training_steps\n",
        "        self.n_warmup_steps = n_warmup_steps\n",
        "        self.criterion = nn.BCELoss()\n",
        "\n",
        "    def forward(self, input_ids, attention_mask, labels=None):\n",
        "        output = self.bert(input_ids, attention_mask=attention_mask)\n",
        "        output = self.classifier(output.pooler_output)\n",
        "        output = torch.sigmoid(output)\n",
        "        loss = 0\n",
        "        if labels is not None:\n",
        "            loss = self.criterion(output, labels)\n",
        "        return loss, output\n",
        "\n",
        "    def training_step(self, batch, batch_idx):\n",
        "        input_ids = batch[\"input_ids\"]\n",
        "        attention_mask = batch[\"attention_mask\"]\n",
        "        labels = batch[\"labels\"]\n",
        "        loss, outputs = self(input_ids, attention_mask, labels)\n",
        "        self.log(\"train_loss\", loss, prog_bar=True, logger=True)\n",
        "        return {\"loss\": loss, \"predictions\": outputs, \"labels\": labels}\n",
        "\n",
        "    def validation_step(self, batch, batch_idx):\n",
        "        input_ids = batch[\"input_ids\"]\n",
        "        attention_mask = batch[\"attention_mask\"]\n",
        "        labels = batch[\"labels\"]\n",
        "        loss, outputs = self(input_ids, attention_mask, labels)\n",
        "        self.log(\"val_loss\", loss, prog_bar=True, logger=True)\n",
        "        return loss\n",
        "\n",
        "    def test_step(self, batch, batch_idx):\n",
        "        input_ids = batch[\"input_ids\"]\n",
        "        attention_mask = batch[\"attention_mask\"]\n",
        "        labels = batch[\"labels\"]\n",
        "        loss, outputs = self(input_ids, attention_mask, labels)\n",
        "        self.log(\"test_loss\", loss, prog_bar=True, logger=True)\n",
        "        return loss\n",
        "\n",
        "    def training_epoch_end(self, outputs):\n",
        "        labels = []\n",
        "        predictions = []\n",
        "        for output in outputs:\n",
        "            for out_labels in output[\"labels\"].detach().cpu():\n",
        "                labels.append(out_labels)\n",
        "            for out_predictions in output[\"predictions\"].detach().cpu():\n",
        "                predictions.append(out_predictions)\n",
        "        labels = torch.stack(labels).int()\n",
        "        predictions = torch.stack(predictions)\n",
        "        for i, name in enumerate(LABEL_COLUMNS):\n",
        "            class_roc_auc = auroc(predictions[:, i], labels[:, i])\n",
        "            self.logger.experiment.add_scalar(\n",
        "                f\"{name}_roc_auc/Train\", class_roc_auc, self.current_epoch\n",
        "            )\n",
        "\n",
        "    def configure_optimizers(self):\n",
        "        optimizer = AdamW(self.parameters(), lr=2e-5)\n",
        "        scheduler = get_linear_schedule_with_warmup(\n",
        "            optimizer,\n",
        "            num_warmup_steps=self.n_warmup_steps,\n",
        "            num_training_steps=self.n_training_steps,\n",
        "        )\n",
        "        return dict(\n",
        "            optimizer=optimizer, lr_scheduler=dict(scheduler=scheduler, interval=\"step\")\n",
        "        )"
      ]
    },
    {
      "cell_type": "markdown",
      "metadata": {
        "id": "CCv_7R7y-_Ts"
      },
      "source": [
        "# Optimizer Scheduler "
      ]
    },
    {
      "cell_type": "markdown",
      "metadata": {
        "id": "tiDc907g_Bgo"
      },
      "source": [
        "The job of a scheduler is to change the learning rate of the optimizer during training. This might lead to better performance of our model. We’ll use the get_linear_schedule_with_warmup.\n",
        "\n",
        "Let’s have a look at a simple example to make things clearer:\n",
        "\n"
      ]
    },
    {
      "cell_type": "code",
      "execution_count": null,
      "metadata": {
        "colab": {
          "base_uri": "https://localhost:8080/",
          "height": 632
        },
        "id": "0KAFQGpL-t_G",
        "outputId": "552bc6fa-9981-4fe0-83f7-ef95c1bcb930"
      },
      "outputs": [
        {
          "name": "stderr",
          "output_type": "stream",
          "text": [
            "/usr/local/lib/python3.7/dist-packages/transformers/optimization.py:310: FutureWarning: This implementation of AdamW is deprecated and will be removed in a future version. Use the PyTorch implementation torch.optim.AdamW instead, or set `no_deprecation_warning=True` to disable this warning\n",
            "  FutureWarning,\n"
          ]
        },
        {
          "data": {
            "image/png": "[encoded data removed]",
            "text/plain": [
              "<Figure size 864x576 with 1 Axes>"
            ]
          },
          "metadata": {
            "image/png": {
              "height": 559,
              "width": 847
            }
          },
          "output_type": "display_data"
        }
      ],
      "source": [
        "dummy_model = nn.Linear(2, 1)\n",
        "optimizer = AdamW(params=dummy_model.parameters(), lr=0.001)\n",
        "warmup_steps = 20\n",
        "total_training_steps = 100\n",
        "scheduler = get_linear_schedule_with_warmup(\n",
        "    optimizer, num_warmup_steps=warmup_steps, num_training_steps=total_training_steps\n",
        ")\n",
        "learning_rate_history = []\n",
        "for step in range(total_training_steps):\n",
        "    optimizer.step()\n",
        "    scheduler.step()\n",
        "    learning_rate_history.append(optimizer.param_groups[0][\"lr\"])\n",
        "plt.plot(learning_rate_history, label=\"learning rate\")\n",
        "plt.axvline(x=warmup_steps, color=\"red\", linestyle=(0, (5, 10)), label=\"warmup end\")\n",
        "plt.legend()\n",
        "plt.xlabel(\"Step\")\n",
        "plt.ylabel(\"Learning rate\")\n",
        "plt.tight_layout()"
      ]
    },
    {
      "cell_type": "markdown",
      "metadata": {
        "id": "gMSFd7Ap_Toc"
      },
      "source": [
        "We simulate 100 training steps and tell the scheduler to warm up for the first 20. The learning rate grows to the initial fixed value of 0.001 during the warm-up and then goes down (linearly) to 0.\n",
        "\n",
        "To use the scheduler, we need to calculate the number of training and warm-up steps. The number of training steps per epoch is equal to number of training examples / batch size. The number of total training steps is training steps per epoch * number of epochs:"
      ]
    },
    {
      "cell_type": "code",
      "execution_count": null,
      "metadata": {
        "id": "aeG7Y5m4_VCD"
      },
      "outputs": [],
      "source": [
        "steps_per_epoch = len(train_df) // BATCH_SIZE\n",
        "total_training_steps = steps_per_epoch * N_EPOCHS"
      ]
    },
    {
      "cell_type": "markdown",
      "metadata": {
        "id": "9Y4xEDbO_gBd"
      },
      "source": [
        "**We’ll** use a fifth of the training steps for a warm-up:"
      ]
    },
    {
      "cell_type": "code",
      "execution_count": null,
      "metadata": {
        "colab": {
          "base_uri": "https://localhost:8080/"
        },
        "id": "_MSBNcWu_hXO",
        "outputId": "d33d85dc-72fd-4d0c-b377-187239785c65"
      },
      "outputs": [
        {
          "data": {
            "text/plain": [
              "(268, 1344)"
            ]
          },
          "execution_count": 38,
          "metadata": {},
          "output_type": "execute_result"
        }
      ],
      "source": [
        "warmup_steps = total_training_steps // 5\n",
        "warmup_steps, total_training_steps"
      ]
    },
    {
      "cell_type": "markdown",
      "metadata": {
        "id": "gafA3skJ_mSb"
      },
      "source": [
        "We can now create an instance of our model:\n",
        "\n"
      ]
    },
    {
      "cell_type": "code",
      "execution_count": null,
      "metadata": {
        "colab": {
          "base_uri": "https://localhost:8080/"
        },
        "id": "7P8iMWin_pfP",
        "outputId": "83e6a2cf-680b-4d24-98d8-4a9f94a66d79"
      },
      "outputs": [
        {
          "name": "stderr",
          "output_type": "stream",
          "text": [
            "Some weights of the model checkpoint at bert-base-cased were not used when initializing BertModel: ['cls.predictions.transform.LayerNorm.bias', 'cls.predictions.transform.LayerNorm.weight', 'cls.predictions.decoder.weight', 'cls.predictions.transform.dense.weight', 'cls.predictions.bias', 'cls.seq_relationship.bias', 'cls.seq_relationship.weight', 'cls.predictions.transform.dense.bias']\n",
            "- This IS expected if you are initializing BertModel from the checkpoint of a model trained on another task or with another architecture (e.g. initializing a BertForSequenceClassification model from a BertForPreTraining model).\n",
            "- This IS NOT expected if you are initializing BertModel from the checkpoint of a model that you expect to be exactly identical (initializing a BertForSequenceClassification model from a BertForSequenceClassification model).\n"
          ]
        }
      ],
      "source": [
        "model = TweetTagger(\n",
        "    n_classes=len(LABEL_COLUMNS),\n",
        "    n_warmup_steps=warmup_steps,\n",
        "    n_training_steps=total_training_steps,\n",
        ")"
      ]
    },
    {
      "cell_type": "markdown",
      "metadata": {
        "id": "lJsCHdwv_1Y4"
      },
      "source": [
        "# Evaluation "
      ]
    },
    {
      "cell_type": "markdown",
      "metadata": {
        "id": "gPQVWdMM_22t"
      },
      "source": [
        "Multi-label classification boils down to doing binary classification for each label/tag.\n",
        "\n",
        "We’ll use Binary Cross Entropy to measure the error for each label. PyTorch has BCELoss, which we’re going to combine with a sigmoid function (as we did in the model implementation). Let’s look at an example:"
      ]
    },
    {
      "cell_type": "code",
      "execution_count": null,
      "metadata": {
        "id": "WIFuxGl-_xNR"
      },
      "outputs": [],
      "source": [
        "criterion = nn.BCELoss()\n",
        "prediction = torch.FloatTensor(\n",
        "    [10.95873564, 1.07321467, 1.58524066, 0.03839076, 15.72987556, 1.09513213]\n",
        ")\n",
        "labels = torch.FloatTensor([1.0, 0.0, 0.0, 0.0, 1.0, 0.0])"
      ]
    },
    {
      "cell_type": "code",
      "execution_count": null,
      "metadata": {
        "colab": {
          "base_uri": "https://localhost:8080/"
        },
        "id": "kBFeJDu-AMJm",
        "outputId": "541b1955-0d66-4e7f-8549-e3865bd60279"
      },
      "outputs": [
        {
          "data": {
            "text/plain": [
              "tensor([1.0000, 0.7452, 0.8299, 0.5096, 1.0000, 0.7493])"
            ]
          },
          "execution_count": 41,
          "metadata": {},
          "output_type": "execute_result"
        }
      ],
      "source": [
        "torch.sigmoid(prediction)"
      ]
    },
    {
      "cell_type": "code",
      "execution_count": null,
      "metadata": {
        "colab": {
          "base_uri": "https://localhost:8080/"
        },
        "id": "MDzs2mHTAOnA",
        "outputId": "1e78ef3b-35c9-48b2-8b3d-b4c064c438d3"
      },
      "outputs": [
        {
          "data": {
            "text/plain": [
              "tensor(0.8725)"
            ]
          },
          "execution_count": 42,
          "metadata": {},
          "output_type": "execute_result"
        }
      ],
      "source": [
        "criterion(torch.sigmoid(prediction), labels)"
      ]
    },
    {
      "cell_type": "markdown",
      "metadata": {
        "id": "Nb2WvmLOBA2a"
      },
      "source": [
        "We can use the same approach to calculate the loss of the predictions:\n",
        "\n"
      ]
    },
    {
      "cell_type": "code",
      "execution_count": null,
      "metadata": {
        "colab": {
          "base_uri": "https://localhost:8080/"
        },
        "id": "2vspzKRoBBnp",
        "outputId": "9c29a978-825e-4086-c4e5-fa87ade014da"
      },
      "outputs": [
        {
          "data": {
            "text/plain": [
              "tensor([[0.5588, 0.5227, 0.3520, 0.3689, 0.5085, 0.4888],\n",
              "        [0.5658, 0.5292, 0.3459, 0.3738, 0.5128, 0.5010],\n",
              "        [0.5711, 0.5234, 0.3446, 0.3722, 0.4740, 0.5151],\n",
              "        [0.5532, 0.5278, 0.3379, 0.3861, 0.4857, 0.5067],\n",
              "        [0.5534, 0.5311, 0.3506, 0.3613, 0.5194, 0.4809],\n",
              "        [0.5651, 0.5227, 0.3390, 0.3648, 0.5081, 0.5029],\n",
              "        [0.5685, 0.5234, 0.3593, 0.3783, 0.5157, 0.4779],\n",
              "        [0.5492, 0.5148, 0.3629, 0.3834, 0.4861, 0.4920]],\n",
              "       grad_fn=<SigmoidBackward0>)"
            ]
          },
          "execution_count": 43,
          "metadata": {},
          "output_type": "execute_result"
        }
      ],
      "source": [
        "_, predictions = model(sample_batch[\"input_ids\"], sample_batch[\"attention_mask\"])\n",
        "predictions"
      ]
    },
    {
      "cell_type": "code",
      "execution_count": null,
      "metadata": {
        "colab": {
          "base_uri": "https://localhost:8080/"
        },
        "id": "rIqQciWiBOwV",
        "outputId": "adbbc590-1830-4094-ef4b-189a2b8f5b47"
      },
      "outputs": [
        {
          "data": {
            "text/plain": [
              "tensor(0.6382, grad_fn=<BinaryCrossEntropyBackward0>)"
            ]
          },
          "execution_count": 44,
          "metadata": {},
          "output_type": "execute_result"
        }
      ],
      "source": [
        "criterion(predictions, sample_batch[\"labels\"])"
      ]
    },
    {
      "cell_type": "markdown",
      "metadata": {
        "id": "b9PBrh-7BSPO"
      },
      "source": [
        "# ROC Curve "
      ]
    },
    {
      "cell_type": "markdown",
      "metadata": {
        "id": "D2vHMYAzBTwB"
      },
      "source": [
        "Another metric we’re going to use is the area under the Receiver operating characteristic (ROC) for each tag. ROC is created by plotting the True Positive Rate (TPR) vs False Positive Rate (FPR):\n",
        "\n",
        "\n",
        "TPR= \n",
        "TP+FN\n",
        "TP\n",
        "​\n",
        " \n",
        "\n",
        "FPR= \n",
        "FP+TN\n",
        "FP\n",
        "​\n"
      ]
    },
    {
      "cell_type": "code",
      "execution_count": null,
      "metadata": {
        "colab": {
          "base_uri": "https://localhost:8080/",
          "height": 523
        },
        "id": "wd0nczfzBXLz",
        "outputId": "08f93ae7-da33-4ff3-92fc-c755f6a12d86"
      },
      "outputs": [
        {
          "data": {
            "image/png": "[encoded data removed]",
            "text/plain": [
              "<Figure size 864x576 with 1 Axes>"
            ]
          },
          "metadata": {
            "image/png": {
              "height": 506,
              "width": 732
            }
          },
          "output_type": "display_data"
        }
      ],
      "source": [
        "from sklearn import metrics\n",
        "\n",
        "fpr = [0.0, 0.0, 0.0, 0.02857143, 0.02857143, 0.11428571, 0.11428571, 0.2, 0.4, 1.0]\n",
        "tpr = [\n",
        "    0.0,\n",
        "    0.01265823,\n",
        "    0.67202532,\n",
        "    0.76202532,\n",
        "    0.91468354,\n",
        "    0.97468354,\n",
        "    0.98734177,\n",
        "    0.98734177,\n",
        "    1.0,\n",
        "    1.0,\n",
        "]\n",
        "_, ax = plt.subplots()\n",
        "ax.plot(fpr, tpr, label=\"ROC\")\n",
        "ax.plot(\n",
        "    [0.05, 0.95],\n",
        "    [0.05, 0.95],\n",
        "    transform=ax.transAxes,\n",
        "    label=\"Random classifier\",\n",
        "    color=\"red\",\n",
        ")\n",
        "ax.legend(loc=4)\n",
        "ax.set_xlabel(\"False positive rate\")\n",
        "ax.set_ylabel(\"True positive rate\")\n",
        "ax.set_title(\"Example ROC curve\")\n",
        "plt.show()"
      ]
    },
    {
      "cell_type": "markdown",
      "metadata": {
        "id": "-8QjP9DgBqzi"
      },
      "source": [
        "Example ROC vaue of a trained classifier vs random classifier"
      ]
    },
    {
      "cell_type": "markdown",
      "metadata": {
        "id": "40CmT1mrBytD"
      },
      "source": [
        "# Training \n",
        "The beauty of PyTorch Lightning is that you can build a standard pipeline that you like and train (almost?) every model you might imagine. I prefer to use at least 3 components.\n",
        "\n",
        "Checkpointing that saves the best model (based on validation loss):\n",
        "\n"
      ]
    },
    {
      "cell_type": "code",
      "execution_count": null,
      "metadata": {
        "id": "_R2W0PmyBr29"
      },
      "outputs": [],
      "source": [
        "checkpoint_callback = ModelCheckpoint(\n",
        "    dirpath=\"checkpoints\",\n",
        "    filename=\"best-checkpoint\",\n",
        "    save_top_k=1,\n",
        "    verbose=True,\n",
        "    monitor=\"val_loss\",\n",
        "    mode=\"min\",\n",
        ")"
      ]
    },
    {
      "cell_type": "markdown",
      "metadata": {
        "id": "EAL2RN0_CC_I"
      },
      "source": [
        "Log the progress in TensorBoard:"
      ]
    },
    {
      "cell_type": "code",
      "execution_count": null,
      "metadata": {
        "id": "DH5dItnQCBs3"
      },
      "outputs": [],
      "source": [
        "logger = TensorBoardLogger(\"lightning_logs\", name=\"tweets\")"
      ]
    },
    {
      "cell_type": "markdown",
      "metadata": {
        "id": "SEugdz8aCY-r"
      },
      "source": [
        "And early stopping triggers when the loss hasn’t improved for the last 2 epochs (you might want to remove/reconsider this when training on real-world projects):"
      ]
    },
    {
      "cell_type": "code",
      "execution_count": null,
      "metadata": {
        "id": "Sb18P7FGCTOT"
      },
      "outputs": [],
      "source": [
        "early_stopping_callback = EarlyStopping(monitor=\"val_loss\", patience=2)"
      ]
    },
    {
      "cell_type": "markdown",
      "metadata": {
        "id": "XW8QlDN6Cr2A"
      },
      "source": [
        "**We** can start the training process:\n",
        "\n"
      ]
    },
    {
      "cell_type": "code",
      "execution_count": null,
      "metadata": {
        "colab": {
          "base_uri": "https://localhost:8080/",
          "height": 383
        },
        "id": "YBhQ_b4lCd96",
        "outputId": "d16085f4-08bd-4ad9-9396-60a30e25e19b"
      },
      "outputs": [
        {
          "ename": "TypeError",
          "evalue": "ignored",
          "output_type": "error",
          "traceback": [
            "\u001b[0;31m---------------------------------------------------------------------------\u001b[0m",
            "\u001b[0;31mTypeError\u001b[0m                                 Traceback (most recent call last)",
            "\u001b[0;32m<ipython-input-52-20c9bad2cb78>\u001b[0m in \u001b[0;36m<module>\u001b[0;34m()\u001b[0m\n\u001b[1;32m      4\u001b[0m   \u001b[0mcallbacks\u001b[0m\u001b[0;34m=\u001b[0m\u001b[0;34m[\u001b[0m\u001b[0mearly_stopping_callback\u001b[0m\u001b[0;34m]\u001b[0m\u001b[0;34m,\u001b[0m\u001b[0;34m\u001b[0m\u001b[0;34m\u001b[0m\u001b[0m\n\u001b[1;32m      5\u001b[0m   \u001b[0mmax_epochs\u001b[0m\u001b[0;34m=\u001b[0m\u001b[0mN_EPOCHS\u001b[0m\u001b[0;34m,\u001b[0m\u001b[0;34m\u001b[0m\u001b[0;34m\u001b[0m\u001b[0m\n\u001b[0;32m----> 6\u001b[0;31m   \u001b[0mgpus\u001b[0m\u001b[0;34m=\u001b[0m\u001b[0;36m1\u001b[0m\u001b[0;34m,\u001b[0m\u001b[0;34m\u001b[0m\u001b[0;34m\u001b[0m\u001b[0m\n\u001b[0m\u001b[1;32m      7\u001b[0m   \u001b[0;31m#progress_bar_refresh_rate=30\u001b[0m\u001b[0;34m\u001b[0m\u001b[0;34m\u001b[0m\u001b[0;34m\u001b[0m\u001b[0m\n\u001b[1;32m      8\u001b[0m )\n",
            "\u001b[0;32m/usr/local/lib/python3.7/dist-packages/pytorch_lightning/utilities/argparse.py\u001b[0m in \u001b[0;36minsert_env_defaults\u001b[0;34m(self, *args, **kwargs)\u001b[0m\n\u001b[1;32m    343\u001b[0m \u001b[0;34m\u001b[0m\u001b[0m\n\u001b[1;32m    344\u001b[0m         \u001b[0;31m# all args were already moved to kwargs\u001b[0m\u001b[0;34m\u001b[0m\u001b[0;34m\u001b[0m\u001b[0;34m\u001b[0m\u001b[0m\n\u001b[0;32m--> 345\u001b[0;31m         \u001b[0;32mreturn\u001b[0m \u001b[0mfn\u001b[0m\u001b[0;34m(\u001b[0m\u001b[0mself\u001b[0m\u001b[0;34m,\u001b[0m \u001b[0;34m**\u001b[0m\u001b[0mkwargs\u001b[0m\u001b[0;34m)\u001b[0m\u001b[0;34m\u001b[0m\u001b[0;34m\u001b[0m\u001b[0m\n\u001b[0m\u001b[1;32m    346\u001b[0m \u001b[0;34m\u001b[0m\u001b[0m\n\u001b[1;32m    347\u001b[0m     \u001b[0;32mreturn\u001b[0m \u001b[0mcast\u001b[0m\u001b[0;34m(\u001b[0m\u001b[0m_T\u001b[0m\u001b[0;34m,\u001b[0m \u001b[0minsert_env_defaults\u001b[0m\u001b[0;34m)\u001b[0m\u001b[0;34m\u001b[0m\u001b[0;34m\u001b[0m\u001b[0m\n",
            "\u001b[0;31mTypeError\u001b[0m: __init__() got an unexpected keyword argument 'checkpoint_callback'"
          ]
        }
      ],
      "source": [
        "trainer = pl.Trainer(\n",
        "    logger=logger,\n",
        "    checkpoint_callback=checkpoint_callback,\n",
        "    callbacks=[early_stopping_callback],\n",
        "    max_epochs=N_EPOCHS,\n",
        "    gpus=1,\n",
        "    # progress_bar_refresh_rate=30\n",
        ")"
      ]
    },
    {
      "cell_type": "code",
      "execution_count": null,
      "metadata": {
        "colab": {
          "base_uri": "https://localhost:8080/",
          "height": 169
        },
        "id": "BtDO2akDDLew",
        "outputId": "2a9ea01e-b6d1-4d0a-c28d-5873715cb47e"
      },
      "outputs": [
        {
          "ename": "NameError",
          "evalue": "ignored",
          "output_type": "error",
          "traceback": [
            "\u001b[0;31m---------------------------------------------------------------------------\u001b[0m",
            "\u001b[0;31mNameError\u001b[0m                                 Traceback (most recent call last)",
            "\u001b[0;32m<ipython-input-109-7b6b8391c42e>\u001b[0m in \u001b[0;36m<module>\u001b[0;34m()\u001b[0m\n\u001b[0;32m----> 1\u001b[0;31m \u001b[0mtrainer\u001b[0m\u001b[0;34m.\u001b[0m\u001b[0mfit\u001b[0m\u001b[0;34m(\u001b[0m\u001b[0mmodel\u001b[0m\u001b[0;34m,\u001b[0m \u001b[0mdata_module\u001b[0m\u001b[0;34m)\u001b[0m\u001b[0;34m\u001b[0m\u001b[0;34m\u001b[0m\u001b[0m\n\u001b[0m",
            "\u001b[0;31mNameError\u001b[0m: name 'trainer' is not defined"
          ]
        }
      ],
      "source": [
        "trainer.fit(model, data_module)"
      ]
    },
    {
      "cell_type": "markdown",
      "metadata": {
        "id": "ncgp8HPGPnmo"
      },
      "source": [
        "# Running the code how I run it in jupyter lab "
      ]
    },
    {
      "cell_type": "markdown",
      "metadata": {
        "id": "Eju9HIVePwBU"
      },
      "source": [
        "preprocessing.py"
      ]
    },
    {
      "cell_type": "markdown",
      "metadata": {
        "id": "iupiXMBuDU3v"
      },
      "source": [
        "The model improved for (only) 2 epochs. We’ll have to evaluate it to see whether it is any good. Let’s double-check the validation loss:\n",
        "\n"
      ]
    },
    {
      "cell_type": "markdown",
      "metadata": {
        "id": "ik_TYD5SDbTR"
      },
      "source": [
        "# Predictions \n",
        "I like to look at a small sample of predictions after the training is complete. This builds intuition about the quality of the predictions (qualitative evaluation).\n",
        "\n",
        "Let’s load the best version (according to the validation loss) of our model:"
      ]
    },
    {
      "cell_type": "code",
      "execution_count": null,
      "metadata": {
        "colab": {
          "base_uri": "https://localhost:8080/"
        },
        "id": "yC3M0pg_Dice",
        "outputId": "c20361d3-4df5-4f9e-d8c5-32ab0f0989f9"
      },
      "outputs": [
        {
          "name": "stderr",
          "output_type": "stream",
          "text": [
            "Some weights of the model checkpoint at bert-base-cased were not used when initializing BertModel: ['cls.predictions.bias', 'cls.predictions.transform.LayerNorm.weight', 'cls.predictions.decoder.weight', 'cls.seq_relationship.weight', 'cls.predictions.transform.dense.weight', 'cls.seq_relationship.bias', 'cls.predictions.transform.LayerNorm.bias', 'cls.predictions.transform.dense.bias']\n",
            "- This IS expected if you are initializing BertModel from the checkpoint of a model trained on another task or with another architecture (e.g. initializing a BertForSequenceClassification model from a BertForPreTraining model).\n",
            "- This IS NOT expected if you are initializing BertModel from the checkpoint of a model that you expect to be exactly identical (initializing a BertForSequenceClassification model from a BertForSequenceClassification model).\n"
          ]
        }
      ],
      "source": [
        "trained_model = TweetTagger.load_from_checkpoint(\n",
        "    trainer.checkpoint_callback.best_model_path, n_classes=len(LABEL_COLUMNS)\n",
        ")\n",
        "trained_model.eval()\n",
        "trained_model.freeze()"
      ]
    },
    {
      "cell_type": "markdown",
      "metadata": {
        "id": "bxKpZhpDDvMq"
      },
      "source": [
        "We put our model into “eval” mode, and we’re ready to make some predictions. Here’s the prediction on a sample (totally fictional) comment:"
      ]
    },
    {
      "cell_type": "code",
      "execution_count": null,
      "metadata": {
        "colab": {
          "base_uri": "https://localhost:8080/"
        },
        "id": "C_UG4T1sDpG9",
        "outputId": "83e90651-89c2-4ecb-8d82-e9c56ce9b4a6"
      },
      "outputs": [
        {
          "name": "stdout",
          "output_type": "stream",
          "text": [
            "neutral: 0.07832329720258713\n",
            "general criticism: 0.05474391579627991\n",
            "disability shaming: 0.8872364163398743\n",
            "racial prejudice: 0.09574278444051743\n",
            "sexism: 0.10517227649688721\n",
            "lgbtq+ phobic: 0.10428095608949661\n"
          ]
        }
      ],
      "source": [
        "test_comment = \"retard retard retard hello hello hello\"\n",
        "encoding = tokenizer.encode_plus(\n",
        "    test_comment,\n",
        "    add_special_tokens=True,\n",
        "    max_length=512,\n",
        "    return_token_type_ids=False,\n",
        "    padding=\"max_length\",\n",
        "    return_attention_mask=True,\n",
        "    return_tensors=\"pt\",\n",
        ")\n",
        "_, test_prediction = trained_model(encoding[\"input_ids\"], encoding[\"attention_mask\"])\n",
        "test_prediction = test_prediction.flatten().numpy()\n",
        "for label, prediction in zip(LABEL_COLUMNS, test_prediction):\n",
        "    print(f\"{label}: {prediction}\")"
      ]
    },
    {
      "cell_type": "code",
      "execution_count": null,
      "metadata": {
        "colab": {
          "base_uri": "https://localhost:8080/"
        },
        "id": "xZu0qjhy7YNJ",
        "outputId": "41f2abb1-3849-4edc-be3b-49e4ff52de4b"
      },
      "outputs": [
        {
          "data": {
            "text/plain": [
              "['neutral',\n",
              " 'general criticism',\n",
              " 'disability shaming',\n",
              " 'racial prejudice',\n",
              " 'sexism',\n",
              " 'lgbtq+ phobic']"
            ]
          },
          "execution_count": 61,
          "metadata": {},
          "output_type": "execute_result"
        }
      ],
      "source": [
        "LABEL_COLUMNS"
      ]
    },
    {
      "cell_type": "code",
      "execution_count": null,
      "metadata": {
        "colab": {
          "base_uri": "https://localhost:8080/"
        },
        "id": "tTgQOITK7u37",
        "outputId": "d8bde463-6349-46e7-edb2-306e1ea4acbb"
      },
      "outputs": [
        {
          "data": {
            "text/plain": [
              "array([0.0783233 , 0.05474392, 0.8872364 , 0.09574278, 0.10517228,\n",
              "       0.10428096], dtype=float32)"
            ]
          },
          "execution_count": 62,
          "metadata": {},
          "output_type": "execute_result"
        }
      ],
      "source": [
        "test_prediction"
      ]
    },
    {
      "cell_type": "markdown",
      "metadata": {
        "id": "xCKV7h-8x-uI"
      },
      "source": [
        "# WEIGHTING SENTIMENT WITH BERT "
      ]
    },
    {
      "cell_type": "code",
      "execution_count": null,
      "metadata": {
        "colab": {
          "base_uri": "https://localhost:8080/"
        },
        "id": "fgCWPDJc5t8J",
        "outputId": "5d654513-d643-4e7a-d2c2-38b2abd3b5eb"
      },
      "outputs": [
        {
          "data": {
            "text/plain": [
              "['I',\n",
              " 'think',\n",
              " 'drinking',\n",
              " 'tea',\n",
              " 'past',\n",
              " '8',\n",
              " 'pm',\n",
              " 'is',\n",
              " 'retarded',\n",
              " '!',\n",
              " 'Too',\n",
              " 'much',\n",
              " 'caffeine',\n",
              " '!',\n",
              " '!']"
            ]
          },
          "execution_count": 64,
          "metadata": {},
          "output_type": "execute_result"
        }
      ],
      "source": [
        "def generate_N_grams(text, ngram=1):\n",
        "    words = re.findall(r\"[\\w']+|[.,!?;]\", text)\n",
        "    # words=[word for word in text.split(\" \")]\n",
        "    temp = zip(*[words[i:] for i in range(0, ngram)])\n",
        "    ans = [\" \".join(ngram) for ngram in temp]\n",
        "    return ans\n",
        "\n",
        "\n",
        "tweet = \"I think drinking tea past 8 pm is retarded! Too much caffeine!!\"\n",
        "unigrams = generate_N_grams(tweet, 1)\n",
        "unigrams"
      ]
    },
    {
      "cell_type": "code",
      "execution_count": null,
      "metadata": {
        "colab": {
          "base_uri": "https://localhost:8080/",
          "height": 383
        },
        "id": "Larse0dU_vEb",
        "outputId": "b1171062-8659-4925-bda7-c43d9aa413e9"
      },
      "outputs": [
        {
          "name": "stdout",
          "output_type": "stream",
          "text": [
            "\u001b[92mretarded\u001b[00m\n"
          ]
        },
        {
          "ename": "TypeError",
          "evalue": "ignored",
          "output_type": "error",
          "traceback": [
            "\u001b[0;31m---------------------------------------------------------------------------\u001b[0m",
            "\u001b[0;31mTypeError\u001b[0m                                 Traceback (most recent call last)",
            "\u001b[0;32m<ipython-input-76-90b9511daef8>\u001b[0m in \u001b[0;36m<module>\u001b[0;34m()\u001b[0m\n\u001b[1;32m     70\u001b[0m \u001b[0;34m\u001b[0m\u001b[0m\n\u001b[1;32m     71\u001b[0m \u001b[0mcount_category\u001b[0m\u001b[0;34m(\u001b[0m\u001b[0mtext\u001b[0m\u001b[0;34m)\u001b[0m\u001b[0;34m\u001b[0m\u001b[0;34m\u001b[0m\u001b[0m\n\u001b[0;32m---> 72\u001b[0;31m \u001b[0mcolor_words\u001b[0m\u001b[0;34m(\u001b[0m\u001b[0mtext\u001b[0m\u001b[0;34m)\u001b[0m\u001b[0;34m\u001b[0m\u001b[0;34m\u001b[0m\u001b[0m\n\u001b[0m\u001b[1;32m     73\u001b[0m \u001b[0;31m#print(f'neutral_words: {neutral_words}')\u001b[0m\u001b[0;34m\u001b[0m\u001b[0;34m\u001b[0m\u001b[0;34m\u001b[0m\u001b[0m\n\u001b[1;32m     74\u001b[0m \u001b[0;34m\u001b[0m\u001b[0m\n",
            "\u001b[0;32m<ipython-input-76-90b9511daef8>\u001b[0m in \u001b[0;36mcolor_words\u001b[0;34m(text)\u001b[0m\n\u001b[1;32m     60\u001b[0m         \u001b[0mstring\u001b[0m \u001b[0;34m+=\u001b[0m \u001b[0mprint\u001b[0m\u001b[0;34m(\u001b[0m\u001b[0;34mf\"\\033[96m{word}\\033[00m\"\u001b[0m\u001b[0;34m)\u001b[0m \u001b[0;34m+\u001b[0m \u001b[0;34m\" \"\u001b[0m\u001b[0;34m\u001b[0m\u001b[0;34m\u001b[0m\u001b[0m\n\u001b[1;32m     61\u001b[0m     \u001b[0;32melif\u001b[0m \u001b[0mword\u001b[0m \u001b[0;32min\u001b[0m \u001b[0mdisability_shaming_words\u001b[0m\u001b[0;34m:\u001b[0m\u001b[0;34m\u001b[0m\u001b[0;34m\u001b[0m\u001b[0m\n\u001b[0;32m---> 62\u001b[0;31m         \u001b[0mstring\u001b[0m \u001b[0;34m+=\u001b[0m \u001b[0mprint\u001b[0m\u001b[0;34m(\u001b[0m\u001b[0;34mf\"\\033[92m{word}\\033[00m\"\u001b[0m\u001b[0;34m)\u001b[0m \u001b[0;34m+\u001b[0m \u001b[0;34m\" \"\u001b[0m\u001b[0;34m\u001b[0m\u001b[0;34m\u001b[0m\u001b[0m\n\u001b[0m\u001b[1;32m     63\u001b[0m     \u001b[0;32melif\u001b[0m \u001b[0mword\u001b[0m \u001b[0;32min\u001b[0m \u001b[0msexist_words\u001b[0m\u001b[0;34m:\u001b[0m\u001b[0;34m\u001b[0m\u001b[0;34m\u001b[0m\u001b[0m\n\u001b[1;32m     64\u001b[0m         \u001b[0mstring\u001b[0m \u001b[0;34m+=\u001b[0m \u001b[0;34mf\"\\033[93m{word}\\033[00m\"\u001b[0m \u001b[0;34m+\u001b[0m \u001b[0;34m\" \"\u001b[0m\u001b[0;34m\u001b[0m\u001b[0;34m\u001b[0m\u001b[0m\n",
            "\u001b[0;31mTypeError\u001b[0m: unsupported operand type(s) for +: 'NoneType' and 'str'"
          ]
        }
      ],
      "source": [
        "text = \"this fat retarded black bitch thinks you should be forced to feed and house a bunch of violence foreign invaders. I strongly disagree\"\n",
        "\n",
        "\n",
        "def color_words(text):\n",
        "    # define sentiment lists for each color\n",
        "    neutral_words = []\n",
        "    general_criticism_words = []\n",
        "    disability_shaming_words = []\n",
        "    racist_words = []\n",
        "    sexist_words = []\n",
        "    lgbtq_words = []\n",
        "\n",
        "    # remove punctutation\n",
        "    # tweet = re.findall(r\"[\\w']+|[.,!?;]\", tweet)\n",
        "    tweet = re.sub(r\"[^\\w\\s]\", \"\", text)\n",
        "    # dictionary storing the count of each sentiment detected from BERT (increment by )0.5 because we use bigrams\n",
        "    count_dict = {\n",
        "        \"neutral_count\": 0,\n",
        "        \"general_criticism_count\": 0,\n",
        "        \"disability_count\": 0,\n",
        "        \"racist_count\": 0,\n",
        "        \"sexist_count\": 0,\n",
        "        \"lgbtq_count\": 0,\n",
        "    }\n",
        "    # first and last unigrams\n",
        "    unigrams = generate_N_grams(tweet, 1)\n",
        "    for unigram in unigrams:\n",
        "        encoding = tokenizer.encode_plus(\n",
        "            unigram,\n",
        "            add_special_tokens=True,\n",
        "            max_length=512,\n",
        "            return_token_type_ids=False,\n",
        "            padding=\"max_length\",\n",
        "            return_attention_mask=True,\n",
        "            return_tensors=\"pt\",\n",
        "        )\n",
        "        _, test_prediction = trained_model(\n",
        "            encoding[\"input_ids\"], encoding[\"attention_mask\"]\n",
        "        )\n",
        "        test_prediction = test_prediction.flatten().numpy()\n",
        "        # print(f'unigram: {unigram}, test_prediction: {test_prediction}')\n",
        "        if test_prediction[0] > 0.5:\n",
        "            count_dict[\"neutral_count\"] += 1\n",
        "            neutral_words.append(unigram)\n",
        "        elif test_prediction[1] > 0.5:\n",
        "            count_dict[\"general_criticism_count\"] += 1\n",
        "            general_criticism_words.append(unigram)\n",
        "        elif test_prediction[2] > 0.5:\n",
        "            count_dict[\"disability_count\"] += 1\n",
        "            disability_shaming_words.append(unigram)\n",
        "        elif test_prediction[3] > 0.5:\n",
        "            count_dict[\"racist_count\"] += 1\n",
        "            racist_words.append(unigram)\n",
        "        elif test_prediction[4] > 0.5:\n",
        "            count_dict[\"sexist_count\"] += 1\n",
        "            sexist_words.append(unigram)\n",
        "        elif test_prediction[5] > 0.5:\n",
        "            count_dict[\"lgbtq_count\"] += 1\n",
        "            lgbtq_words.append(unigram)\n",
        "\n",
        "    # puncs = ['!','(',')',',','-','[',']','{','}',';',':','’', '”', '<' , '>','.','/','?','@','#','$','%','^','&','*','_','~']\n",
        "    tweet = re.findall(r\"[\\w']+|[.,!?;]\", text)\n",
        "    string = \"\"\n",
        "\n",
        "    for word in tweet:\n",
        "        if word in lgbtq_words:\n",
        "            string += print(f\"\\033[95m{word}\\033[00m\") + \" \"\n",
        "        elif word in racist_words:\n",
        "            string += print(f\"\\033[96m{word}\\033[00m\") + \" \"\n",
        "        elif word in disability_shaming_words:\n",
        "            string += f\"\\033[92m{word}\\033[00m\" + \" \"\n",
        "        elif word in sexist_words:\n",
        "            string += f\"\\033[93m{word}\\033[00m\" + \" \"\n",
        "        elif word in general_criticism_words:\n",
        "            string += f\"\\033[91m{word}\\033[00m\" + \" \"\n",
        "        else:\n",
        "            string += word + \" \"\n",
        "    return string\n",
        "\n",
        "\n",
        "count_category(text)\n",
        "color_words(text)"
      ]
    },
    {
      "cell_type": "code",
      "execution_count": null,
      "metadata": {
        "colab": {
          "base_uri": "https://localhost:8080/"
        },
        "id": "N_AihuJHjhYp",
        "outputId": "09b503cc-fa38-47d7-da86-393952aca417"
      },
      "outputs": [
        {
          "name": "stdout",
          "output_type": "stream",
          "text": [
            "this fat \u001b[92mretarded\u001b[00m black \u001b[93mbitch\u001b[00m thinks you should be forced to feed and house a bunch of violence foreign invaders . I strongly disagree "
          ]
        }
      ],
      "source": [
        "text = \"this fat retarded black bitch thinks you should be forced to feed and house a bunch of violence foreign invaders. I strongly disagree\"\n",
        "\n",
        "\n",
        "def color_words(text):\n",
        "    # define sentiment lists for each color\n",
        "    neutral_words = []\n",
        "    general_criticism_words = []\n",
        "    disability_shaming_words = []\n",
        "    racist_words = []\n",
        "    sexist_words = []\n",
        "    lgbtq_words = []\n",
        "\n",
        "    # remove punctutation\n",
        "    # tweet = re.findall(r\"[\\w']+|[.,!?;]\", tweet)\n",
        "    tweet = re.sub(r\"[^\\w\\s]\", \"\", text)\n",
        "    # dictionary storing the count of each sentiment detected from BERT (increment by )0.5 because we use bigrams\n",
        "    count_dict = {\n",
        "        \"neutral_count\": 0,\n",
        "        \"general_criticism_count\": 0,\n",
        "        \"disability_count\": 0,\n",
        "        \"racist_count\": 0,\n",
        "        \"sexist_count\": 0,\n",
        "        \"lgbtq_count\": 0,\n",
        "    }\n",
        "    # first and last unigrams\n",
        "    unigrams = generate_N_grams(tweet, 1)\n",
        "    for unigram in unigrams:\n",
        "        encoding = tokenizer.encode_plus(\n",
        "            unigram,\n",
        "            add_special_tokens=True,\n",
        "            max_length=512,\n",
        "            return_token_type_ids=False,\n",
        "            padding=\"max_length\",\n",
        "            return_attention_mask=True,\n",
        "            return_tensors=\"pt\",\n",
        "        )\n",
        "        _, test_prediction = trained_model(\n",
        "            encoding[\"input_ids\"], encoding[\"attention_mask\"]\n",
        "        )\n",
        "        test_prediction = test_prediction.flatten().numpy()\n",
        "        # print(f'unigram: {unigram}, test_prediction: {test_prediction}')\n",
        "        if test_prediction[0] > 0.5:\n",
        "            count_dict[\"neutral_count\"] += 1\n",
        "            neutral_words.append(unigram)\n",
        "        elif test_prediction[1] > 0.5:\n",
        "            count_dict[\"general_criticism_count\"] += 1\n",
        "            general_criticism_words.append(unigram)\n",
        "        elif test_prediction[2] > 0.5:\n",
        "            count_dict[\"disability_count\"] += 1\n",
        "            disability_shaming_words.append(unigram)\n",
        "        elif test_prediction[3] > 0.5:\n",
        "            count_dict[\"racist_count\"] += 1\n",
        "            racist_words.append(unigram)\n",
        "        elif test_prediction[4] > 0.5:\n",
        "            count_dict[\"sexist_count\"] += 1\n",
        "            sexist_words.append(unigram)\n",
        "        elif test_prediction[5] > 0.5:\n",
        "            count_dict[\"lgbtq_count\"] += 1\n",
        "            lgbtq_words.append(unigram)\n",
        "\n",
        "    # puncs = ['!','(',')',',','-','[',']','{','}',';',':','’', '”', '<' , '>','.','/','?','@','#','$','%','^','&','*','_','~']\n",
        "    tweet = re.findall(r\"[\\w']+|[.,!?;]\", text)\n",
        "\n",
        "    for word in tweet:\n",
        "        if word in lgbtq_words:\n",
        "            print(f\"\\033[95m{word}\\033[00m\", end=\" \")\n",
        "        elif word in racist_words:\n",
        "            print(f\"\\033[96m{word}\\033[00m\", end=\" \")\n",
        "        elif word in disability_shaming_words:\n",
        "            print(f\"\\033[92m{word}\\033[00m\", end=\" \")\n",
        "        elif word in sexist_words:\n",
        "            print(f\"\\033[93m{word}\\033[00m\", end=\" \")\n",
        "        elif word in general_criticism_words:\n",
        "            print(f\"\\033[91m{word}\\033[00m\", end=\" \")\n",
        "        else:\n",
        "            print(word, end=\" \")\n",
        "\n",
        "\n",
        "count_category(text)\n",
        "color_words(text)"
      ]
    },
    {
      "cell_type": "code",
      "execution_count": null,
      "metadata": {
        "colab": {
          "base_uri": "https://localhost:8080/"
        },
        "id": "JC8HN96U_4Qe",
        "outputId": "10c775d9-2a99-401c-a28c-1882e1f7b96a"
      },
      "outputs": [
        {
          "data": {
            "text/plain": [
              "['what', 'a', 'fat', 'cunt.', 'I', 'hate', 'her.']"
            ]
          },
          "execution_count": 85,
          "metadata": {},
          "output_type": "execute_result"
        }
      ],
      "source": [
        "text = \"what a fat cunt. I hate her.\"\n",
        "tweet = text.split(\" \")\n",
        "# tweet = re.findall(r\"[\\w']+|[.,!?;]\", text)\n",
        "tweet"
      ]
    },
    {
      "cell_type": "code",
      "execution_count": null,
      "metadata": {
        "colab": {
          "base_uri": "https://localhost:8080/"
        },
        "id": "eEmjXf7KD8VO",
        "outputId": "30aaf268-0921-42ca-dff1-f23ce77cf6ee"
      },
      "outputs": [
        {
          "data": {
            "text/plain": [
              "True"
            ]
          },
          "execution_count": 96,
          "metadata": {},
          "output_type": "execute_result"
        }
      ],
      "source": [
        "\"text\" in \"text!\""
      ]
    },
    {
      "cell_type": "code",
      "execution_count": null,
      "metadata": {
        "id": "OJArMuKLRain"
      },
      "outputs": [],
      "source": [
        "test_prediction"
      ]
    },
    {
      "cell_type": "code",
      "execution_count": null,
      "metadata": {
        "colab": {
          "base_uri": "https://localhost:8080/",
          "height": 502
        },
        "id": "-yMrPFzq47Wu",
        "outputId": "915f1cdd-7a6d-4685-c6f1-a2441ec77906"
      },
      "outputs": [
        {
          "name": "stdout",
          "output_type": "stream",
          "text": [
            "Tweet: Lebron james was eating a burger and then he slipped and fell. And so then I said you're a retard\n"
          ]
        },
        {
          "data": {
            "image/png": "[encoded data removed]",
            "text/plain": [
              "<Figure size 576x576 with 1 Axes>"
            ]
          },
          "metadata": {
            "image/png": {
              "height": 449,
              "width": 569
            }
          },
          "output_type": "display_data"
        },
        {
          "name": "stdout",
          "output_type": "stream",
          "text": [
            "Lebron james was eating a burger and then he slipped and fell . And so then I said you're a \u001b[92mretard\u001b[00m "
          ]
        },
        {
          "data": {
            "text/plain": [
              "(None, None)"
            ]
          },
          "execution_count": 64,
          "metadata": {},
          "output_type": "execute_result"
        }
      ],
      "source": [
        "def return_distribution(test_comment):\n",
        "    encoding = tokenizer.encode_plus(\n",
        "        test_comment,\n",
        "        add_special_tokens=True,\n",
        "        max_length=512,\n",
        "        return_token_type_ids=False,\n",
        "        padding=\"max_length\",\n",
        "        return_attention_mask=True,\n",
        "        return_tensors=\"pt\",\n",
        "    )\n",
        "    _, test_prediction = trained_model(\n",
        "        encoding[\"input_ids\"], encoding[\"attention_mask\"]\n",
        "    )\n",
        "    test_prediction = test_prediction.flatten().numpy()\n",
        "\n",
        "    # multiply the original outputs by the term frequency (TF) of each category\n",
        "\n",
        "    count_dict = count_category(test_comment)\n",
        "\n",
        "    neutral_score = count_dict[\"neutral_count\"] * test_prediction[0]\n",
        "    general_criticism_score = count_dict[\"general_criticism_count\"] * test_prediction[1]\n",
        "    weighted_disability_score = count_dict[\"disability_count\"] * test_prediction[2]\n",
        "    weighted_racist_score = count_dict[\"racist_count\"] * test_prediction[3]\n",
        "    weighted_sexist_score = count_dict[\"sexist_count\"] * test_prediction[4]\n",
        "    weighted_lgbtq_score = count_dict[\"lgbtq_count\"] * test_prediction[5]\n",
        "\n",
        "    # if neutral_score < 0.5 or general_criticism_score <0.5:\n",
        "\n",
        "    weighted_test_prediction = np.array(\n",
        "        [\n",
        "            neutral_score,\n",
        "            general_criticism_score,\n",
        "            weighted_disability_score,\n",
        "            weighted_racist_score,\n",
        "            weighted_sexist_score,\n",
        "            weighted_lgbtq_score,\n",
        "        ]\n",
        "    )\n",
        "\n",
        "    pred_dict = {\"Sentiment\": LABEL_COLUMNS, \"Probability\": weighted_test_prediction}\n",
        "    pred_df = pd.DataFrame(pred_dict)\n",
        "\n",
        "    print(f\"Tweet: {test_comment}\")\n",
        "    plt.figure(figsize=(8, 8))  # change the size of a figure\n",
        "    # The slices will be ordered and plotted counter-clockwise.\n",
        "    labels = pred_df[\"Sentiment\"]\n",
        "    sizes = pred_df[\"Probability\"]\n",
        "    colors = [\n",
        "        \"#FFB600\",\n",
        "        \"#09A0DA\",\n",
        "        \"#8464a0\",\n",
        "        \"red\",\n",
        "        \"green\",\n",
        "        \"pink\",\n",
        "    ]  # define colors of three donut pieces\n",
        "    explode = (0, 0, 0, 0, 0, 0)  # explode a slice if required\n",
        "    textprops = {\"fontsize\": 14, \"color\": \"black\"}  # Font size of text in donut chart\n",
        "    plt.pie(\n",
        "        sizes,\n",
        "        explode=explode,\n",
        "        labels=labels,\n",
        "        colors=colors,\n",
        "        autopct=\"%.2f%%\",  # Show data in 0.00%\n",
        "        pctdistance=0.9,\n",
        "        shadow=False,\n",
        "        textprops=textprops,\n",
        "        wedgeprops={\"linewidth\": 3.0, \"edgecolor\": \"white\"},\n",
        "    )\n",
        "\n",
        "    # draw a circle at the center of pie to make it look like a donut\n",
        "    centre_circle = plt.Circle((0, 0), 0.65, color=\"grey\", fc=\"white\", linewidth=1.00)\n",
        "    fig = plt.gcf()\n",
        "    fig.gca().add_artist(centre_circle)\n",
        "    plt.axis(\"equal\")  # Set aspect ratio to be equal so that pie is drawn as a circle.\n",
        "    display = plt.show()\n",
        "    return display, color_words(test_comment)\n",
        "\n",
        "\n",
        "return_distribution(\n",
        "    \"Lebron james was eating a burger and then he slipped and fell. And so then I said you're a retard\"\n",
        ")"
      ]
    },
    {
      "cell_type": "markdown",
      "metadata": {
        "id": "0V5I-MUOD_fa"
      },
      "source": [
        "Looks good. This one is pretty clean. We’ll reduce the noise of the predictions by thresholding (0.5) them. We’ll take only tag predictions above (or equal) to the threshold. Let’s try something toxic:"
      ]
    },
    {
      "cell_type": "code",
      "execution_count": null,
      "metadata": {
        "id": "llHHcoZxD-uU"
      },
      "outputs": [],
      "source": [
        "THRESHOLD = 0.5\n",
        "test_comment = \"You are such a loser! You'll regret everything you've done to me!\"\n",
        "encoding = tokenizer.encode_plus(\n",
        "    test_comment,\n",
        "    add_special_tokens=True,\n",
        "    max_length=512,\n",
        "    return_token_type_ids=False,\n",
        "    padding=\"max_length\",\n",
        "    return_attention_mask=True,\n",
        "    return_tensors=\"pt\",\n",
        ")\n",
        "_, test_prediction = trained_model(encoding[\"input_ids\"], encoding[\"attention_mask\"])\n",
        "test_prediction = test_prediction.flatten().numpy()\n",
        "for label, prediction in zip(LABEL_COLUMNS, test_prediction):\n",
        "    if prediction < THRESHOLD:\n",
        "        continue\n",
        "    print(f\"{label}: {prediction}\")"
      ]
    },
    {
      "cell_type": "markdown",
      "metadata": {
        "id": "jI4YmWp8EQVX"
      },
      "source": [
        "# Evaluation "
      ]
    },
    {
      "cell_type": "markdown",
      "metadata": {
        "id": "sJkv0IMEEVhE"
      },
      "source": [
        "Let’s get a more complete overview of the performance of our model. We’ll start by taking all predictions and labels from the validation set:\n",
        "\n"
      ]
    },
    {
      "cell_type": "code",
      "execution_count": null,
      "metadata": {
        "colab": {
          "base_uri": "https://localhost:8080/",
          "height": 49,
          "referenced_widgets": [
            "b83791b66d9c44589cae5ab4be3e6ca8",
            "7aa7f8b53c2b430cae6127d62d9be1c6",
            "38a5af2b9ce941b3bc48ef7c301e9f3c",
            "ab3c30ece12b4555ab9de7702463d492",
            "a361d3cf2df94c769e670949dd637905",
            "991b35e75e7346a58b58c5f6a94ac6fb",
            "2fc850a541e346f192c862f8826cac19",
            "e7654f738b2b468a9f72a1bd5782584f",
            "e26fee8142ac42c0a6cc80d0c3910948",
            "ae81b452b350452e9f5e093698d2767f",
            "22664f6c71be47cd9209d53a4bcbd184"
          ]
        },
        "id": "DC6s3_NCEP6E",
        "outputId": "04db2664-d75f-4ea0-ed10-a4757a299ec9"
      },
      "outputs": [
        {
          "data": {
            "application/vnd.jupyter.widget-view+json": {
              "model_id": "b83791b66d9c44589cae5ab4be3e6ca8",
              "version_major": 2,
              "version_minor": 0
            },
            "text/plain": [
              "  0%|          | 0/1132 [00:00<?, ?it/s]"
            ]
          },
          "metadata": {},
          "output_type": "display_data"
        }
      ],
      "source": [
        "device = torch.device(\"cuda\" if torch.cuda.is_available() else \"cpu\")\n",
        "trained_model = trained_model.to(device)\n",
        "val_dataset = TweetsDataset(val_df, tokenizer, max_token_len=MAX_TOKEN_COUNT)\n",
        "predictions = []\n",
        "labels = []\n",
        "for item in tqdm(val_dataset):\n",
        "    _, prediction = trained_model(\n",
        "        item[\"input_ids\"].unsqueeze(dim=0).to(device),\n",
        "        item[\"attention_mask\"].unsqueeze(dim=0).to(device),\n",
        "    )\n",
        "    predictions.append(prediction.flatten())\n",
        "    labels.append(item[\"labels\"].int())\n",
        "predictions = torch.stack(predictions).detach().cpu()\n",
        "labels = torch.stack(labels).detach().cpu()"
      ]
    },
    {
      "cell_type": "markdown",
      "metadata": {
        "id": "s6_Yp-6LEivZ"
      },
      "source": [
        "One simple metric is the accuracy of the model:"
      ]
    },
    {
      "cell_type": "code",
      "execution_count": null,
      "metadata": {
        "colab": {
          "base_uri": "https://localhost:8080/"
        },
        "id": "b1ZhQYpBz8g-",
        "outputId": "4fc15f0d-686e-4865-fe14-c667aabaf2fc"
      },
      "outputs": [
        {
          "data": {
            "text/plain": [
              "tensor([[0.0067, 0.0074, 0.0086, 0.0194, 0.9929, 0.0115],\n",
              "        [0.0066, 0.0074, 0.0097, 0.0193, 0.9938, 0.0126],\n",
              "        [0.0696, 0.0620, 0.0636, 0.0786, 0.0730, 0.9119],\n",
              "        ...,\n",
              "        [0.8257, 0.1233, 0.0258, 0.0452, 0.0486, 0.0204],\n",
              "        [0.0102, 0.0174, 0.0231, 0.9461, 0.9798, 0.0292],\n",
              "        [0.0318, 0.0237, 0.0197, 0.9682, 0.0921, 0.0392]])"
            ]
          },
          "execution_count": 69,
          "metadata": {},
          "output_type": "execute_result"
        }
      ],
      "source": [
        "predictions"
      ]
    },
    {
      "cell_type": "code",
      "execution_count": null,
      "metadata": {
        "colab": {
          "base_uri": "https://localhost:8080/"
        },
        "id": "6oqPYvH6EjjY",
        "outputId": "e77d4395-52e5-48b3-a841-55278168c301"
      },
      "outputs": [
        {
          "data": {
            "text/plain": [
              "tensor(0.9787)"
            ]
          },
          "execution_count": 70,
          "metadata": {},
          "output_type": "execute_result"
        }
      ],
      "source": [
        "accuracy(predictions, labels, threshold=THRESHOLD)"
      ]
    },
    {
      "cell_type": "markdown",
      "metadata": {
        "id": "mx6sMlhhEqGW"
      },
      "source": [
        "That’s great, but you should take this result with a grain of salt. We have a very imbalanced dataset. Let’s check the ROC for each tag:"
      ]
    },
    {
      "cell_type": "code",
      "execution_count": null,
      "metadata": {
        "colab": {
          "base_uri": "https://localhost:8080/"
        },
        "id": "jZR00GNUE0qb",
        "outputId": "ec63313b-d7e7-4952-f0f5-52dc69f52e24"
      },
      "outputs": [
        {
          "name": "stdout",
          "output_type": "stream",
          "text": [
            "AUROC per tag\n",
            "neutral: 0.9865038394927979\n",
            "general criticism: 0.9644076824188232\n",
            "disability shaming: 0.9970425963401794\n",
            "racial prejudice: 0.9690312147140503\n",
            "sexism: 0.995820939540863\n",
            "lgbtq+ phobic: 0.9456567764282227\n"
          ]
        }
      ],
      "source": [
        "print(\"AUROC per tag\")\n",
        "for i, name in enumerate(LABEL_COLUMNS):\n",
        "    tag_auroc = auroc(predictions[:, i], labels[:, i], pos_label=1)\n",
        "    print(f\"{name}: {tag_auroc}\")"
      ]
    },
    {
      "cell_type": "markdown",
      "metadata": {
        "id": "OQh40BNJE1yq"
      },
      "source": [
        "Very good results, but just before we go party, let’s check the classification report for each class. To make this work, we must apply thresholding to the predictions:"
      ]
    },
    {
      "cell_type": "code",
      "execution_count": null,
      "metadata": {
        "colab": {
          "base_uri": "https://localhost:8080/"
        },
        "id": "-shpeWLxE5jR",
        "outputId": "ed4664f3-7332-4885-903b-2fef8643f74b"
      },
      "outputs": [
        {
          "name": "stdout",
          "output_type": "stream",
          "text": [
            "                    precision    recall  f1-score   support\n",
            "\n",
            "           neutral       0.77      0.92      0.84       121\n",
            " general criticism       0.62      0.33      0.43        45\n",
            "disability shaming       1.00      0.90      0.95        21\n",
            "  racial prejudice       0.96      0.85      0.90       217\n",
            "            sexism       1.00      0.98      0.99       783\n",
            "     lgbtq+ phobic       0.98      0.86      0.92        51\n",
            "\n",
            "         micro avg       0.96      0.92      0.94      1238\n",
            "         macro avg       0.89      0.81      0.84      1238\n",
            "      weighted avg       0.96      0.92      0.94      1238\n",
            "       samples avg       0.94      0.93      0.93      1238\n",
            "\n"
          ]
        }
      ],
      "source": [
        "y_pred = predictions.numpy()\n",
        "y_true = labels.numpy()\n",
        "upper, lower = 1, 0\n",
        "y_pred = np.where(y_pred > THRESHOLD, upper, lower)\n",
        "print(\n",
        "    classification_report(y_true, y_pred, target_names=LABEL_COLUMNS, zero_division=0)\n",
        ")"
      ]
    },
    {
      "cell_type": "code",
      "execution_count": null,
      "metadata": {
        "colab": {
          "base_uri": "https://localhost:8080/"
        },
        "id": "WlrYOKegvDhi",
        "outputId": "c4cc3260-cc21-40fc-c751-0953dd753dd4"
      },
      "outputs": [
        {
          "data": {
            "text/plain": [
              "array([[0, 0, 0, 0, 1, 0],\n",
              "       [0, 0, 0, 0, 1, 0],\n",
              "       [0, 0, 0, 0, 1, 0],\n",
              "       ...,\n",
              "       [0, 0, 0, 1, 1, 0],\n",
              "       [0, 0, 0, 1, 1, 1],\n",
              "       [0, 0, 0, 0, 1, 0]], dtype=int32)"
            ]
          },
          "execution_count": 100,
          "metadata": {},
          "output_type": "execute_result"
        }
      ],
      "source": [
        "y_true"
      ]
    },
    {
      "cell_type": "code",
      "execution_count": null,
      "metadata": {
        "colab": {
          "base_uri": "https://localhost:8080/",
          "height": 445
        },
        "id": "MEOzdErZbouM",
        "outputId": "d417c708-e342-4fbb-ef74-6dd245f15766"
      },
      "outputs": [
        {
          "name": "stderr",
          "output_type": "stream",
          "text": [
            "/usr/local/lib/python3.7/dist-packages/sklearn/utils/deprecation.py:87: FutureWarning: Function plot_roc_curve is deprecated; This will be removed in v0.5.0. Please use scikitplot.metrics.plot_roc instead.\n",
            "  warnings.warn(msg, category=FutureWarning)\n"
          ]
        },
        {
          "ename": "ValueError",
          "evalue": "ignored",
          "output_type": "error",
          "traceback": [
            "\u001b[0;31m---------------------------------------------------------------------------\u001b[0m",
            "\u001b[0;31mValueError\u001b[0m                                Traceback (most recent call last)",
            "\u001b[0;32m<ipython-input-112-ed2c91856244>\u001b[0m in \u001b[0;36m<module>\u001b[0;34m()\u001b[0m\n\u001b[1;32m      4\u001b[0m \u001b[0;34m\u001b[0m\u001b[0m\n\u001b[1;32m      5\u001b[0m \u001b[0;31m#y_probas = predictions[:, i]\u001b[0m\u001b[0;34m\u001b[0m\u001b[0;34m\u001b[0m\u001b[0;34m\u001b[0m\u001b[0m\n\u001b[0;32m----> 6\u001b[0;31m \u001b[0mskplt\u001b[0m\u001b[0;34m.\u001b[0m\u001b[0mmetrics\u001b[0m\u001b[0;34m.\u001b[0m\u001b[0mplot_roc_curve\u001b[0m\u001b[0;34m(\u001b[0m\u001b[0my_true\u001b[0m\u001b[0;34m,\u001b[0m \u001b[0mpredictions\u001b[0m\u001b[0;34m)\u001b[0m\u001b[0;34m\u001b[0m\u001b[0;34m\u001b[0m\u001b[0m\n\u001b[0m\u001b[1;32m      7\u001b[0m \u001b[0mplt\u001b[0m\u001b[0;34m.\u001b[0m\u001b[0mshow\u001b[0m\u001b[0;34m(\u001b[0m\u001b[0;34m)\u001b[0m\u001b[0;34m\u001b[0m\u001b[0;34m\u001b[0m\u001b[0m\n",
            "\u001b[0;32m/usr/local/lib/python3.7/dist-packages/sklearn/utils/deprecation.py\u001b[0m in \u001b[0;36mwrapped\u001b[0;34m(*args, **kwargs)\u001b[0m\n\u001b[1;32m     86\u001b[0m         \u001b[0;32mdef\u001b[0m \u001b[0mwrapped\u001b[0m\u001b[0;34m(\u001b[0m\u001b[0;34m*\u001b[0m\u001b[0margs\u001b[0m\u001b[0;34m,\u001b[0m \u001b[0;34m**\u001b[0m\u001b[0mkwargs\u001b[0m\u001b[0;34m)\u001b[0m\u001b[0;34m:\u001b[0m\u001b[0;34m\u001b[0m\u001b[0;34m\u001b[0m\u001b[0m\n\u001b[1;32m     87\u001b[0m             \u001b[0mwarnings\u001b[0m\u001b[0;34m.\u001b[0m\u001b[0mwarn\u001b[0m\u001b[0;34m(\u001b[0m\u001b[0mmsg\u001b[0m\u001b[0;34m,\u001b[0m \u001b[0mcategory\u001b[0m\u001b[0;34m=\u001b[0m\u001b[0mFutureWarning\u001b[0m\u001b[0;34m)\u001b[0m\u001b[0;34m\u001b[0m\u001b[0;34m\u001b[0m\u001b[0m\n\u001b[0;32m---> 88\u001b[0;31m             \u001b[0;32mreturn\u001b[0m \u001b[0mfun\u001b[0m\u001b[0;34m(\u001b[0m\u001b[0;34m*\u001b[0m\u001b[0margs\u001b[0m\u001b[0;34m,\u001b[0m \u001b[0;34m**\u001b[0m\u001b[0mkwargs\u001b[0m\u001b[0;34m)\u001b[0m\u001b[0;34m\u001b[0m\u001b[0;34m\u001b[0m\u001b[0m\n\u001b[0m\u001b[1;32m     89\u001b[0m \u001b[0;34m\u001b[0m\u001b[0m\n\u001b[1;32m     90\u001b[0m         \u001b[0mwrapped\u001b[0m\u001b[0;34m.\u001b[0m\u001b[0m__doc__\u001b[0m \u001b[0;34m=\u001b[0m \u001b[0mself\u001b[0m\u001b[0;34m.\u001b[0m\u001b[0m_update_doc\u001b[0m\u001b[0;34m(\u001b[0m\u001b[0mwrapped\u001b[0m\u001b[0;34m.\u001b[0m\u001b[0m__doc__\u001b[0m\u001b[0;34m)\u001b[0m\u001b[0;34m\u001b[0m\u001b[0;34m\u001b[0m\u001b[0m\n",
            "\u001b[0;32m/usr/local/lib/python3.7/dist-packages/scikitplot/metrics.py\u001b[0m in \u001b[0;36mplot_roc_curve\u001b[0;34m(y_true, y_probas, title, curves, ax, figsize, cmap, title_fontsize, text_fontsize)\u001b[0m\n\u001b[1;32m    256\u001b[0m     \u001b[0;32mfor\u001b[0m \u001b[0mi\u001b[0m \u001b[0;32min\u001b[0m \u001b[0mrange\u001b[0m\u001b[0;34m(\u001b[0m\u001b[0mlen\u001b[0m\u001b[0;34m(\u001b[0m\u001b[0mclasses\u001b[0m\u001b[0;34m)\u001b[0m\u001b[0;34m)\u001b[0m\u001b[0;34m:\u001b[0m\u001b[0;34m\u001b[0m\u001b[0;34m\u001b[0m\u001b[0m\n\u001b[1;32m    257\u001b[0m         fpr[i], tpr[i], _ = roc_curve(y_true, probas[:, i],\n\u001b[0;32m--> 258\u001b[0;31m                                       pos_label=classes[i])\n\u001b[0m\u001b[1;32m    259\u001b[0m         \u001b[0mroc_auc\u001b[0m\u001b[0;34m[\u001b[0m\u001b[0mi\u001b[0m\u001b[0;34m]\u001b[0m \u001b[0;34m=\u001b[0m \u001b[0mauc\u001b[0m\u001b[0;34m(\u001b[0m\u001b[0mfpr\u001b[0m\u001b[0;34m[\u001b[0m\u001b[0mi\u001b[0m\u001b[0;34m]\u001b[0m\u001b[0;34m,\u001b[0m \u001b[0mtpr\u001b[0m\u001b[0;34m[\u001b[0m\u001b[0mi\u001b[0m\u001b[0;34m]\u001b[0m\u001b[0;34m)\u001b[0m\u001b[0;34m\u001b[0m\u001b[0;34m\u001b[0m\u001b[0m\n\u001b[1;32m    260\u001b[0m \u001b[0;34m\u001b[0m\u001b[0m\n",
            "\u001b[0;32m/usr/local/lib/python3.7/dist-packages/sklearn/metrics/_ranking.py\u001b[0m in \u001b[0;36mroc_curve\u001b[0;34m(y_true, y_score, pos_label, sample_weight, drop_intermediate)\u001b[0m\n\u001b[1;32m    961\u001b[0m     \"\"\"\n\u001b[1;32m    962\u001b[0m     fps, tps, thresholds = _binary_clf_curve(\n\u001b[0;32m--> 963\u001b[0;31m         \u001b[0my_true\u001b[0m\u001b[0;34m,\u001b[0m \u001b[0my_score\u001b[0m\u001b[0;34m,\u001b[0m \u001b[0mpos_label\u001b[0m\u001b[0;34m=\u001b[0m\u001b[0mpos_label\u001b[0m\u001b[0;34m,\u001b[0m \u001b[0msample_weight\u001b[0m\u001b[0;34m=\u001b[0m\u001b[0msample_weight\u001b[0m\u001b[0;34m\u001b[0m\u001b[0;34m\u001b[0m\u001b[0m\n\u001b[0m\u001b[1;32m    964\u001b[0m     )\n\u001b[1;32m    965\u001b[0m \u001b[0;34m\u001b[0m\u001b[0m\n",
            "\u001b[0;32m/usr/local/lib/python3.7/dist-packages/sklearn/metrics/_ranking.py\u001b[0m in \u001b[0;36m_binary_clf_curve\u001b[0;34m(y_true, y_score, pos_label, sample_weight)\u001b[0m\n\u001b[1;32m    729\u001b[0m     \u001b[0my_type\u001b[0m \u001b[0;34m=\u001b[0m \u001b[0mtype_of_target\u001b[0m\u001b[0;34m(\u001b[0m\u001b[0my_true\u001b[0m\u001b[0;34m)\u001b[0m\u001b[0;34m\u001b[0m\u001b[0;34m\u001b[0m\u001b[0m\n\u001b[1;32m    730\u001b[0m     \u001b[0;32mif\u001b[0m \u001b[0;32mnot\u001b[0m \u001b[0;34m(\u001b[0m\u001b[0my_type\u001b[0m \u001b[0;34m==\u001b[0m \u001b[0;34m\"binary\"\u001b[0m \u001b[0;32mor\u001b[0m \u001b[0;34m(\u001b[0m\u001b[0my_type\u001b[0m \u001b[0;34m==\u001b[0m \u001b[0;34m\"multiclass\"\u001b[0m \u001b[0;32mand\u001b[0m \u001b[0mpos_label\u001b[0m \u001b[0;32mis\u001b[0m \u001b[0;32mnot\u001b[0m \u001b[0;32mNone\u001b[0m\u001b[0;34m)\u001b[0m\u001b[0;34m)\u001b[0m\u001b[0;34m:\u001b[0m\u001b[0;34m\u001b[0m\u001b[0;34m\u001b[0m\u001b[0m\n\u001b[0;32m--> 731\u001b[0;31m         \u001b[0;32mraise\u001b[0m \u001b[0mValueError\u001b[0m\u001b[0;34m(\u001b[0m\u001b[0;34m\"{0} format is not supported\"\u001b[0m\u001b[0;34m.\u001b[0m\u001b[0mformat\u001b[0m\u001b[0;34m(\u001b[0m\u001b[0my_type\u001b[0m\u001b[0;34m)\u001b[0m\u001b[0;34m)\u001b[0m\u001b[0;34m\u001b[0m\u001b[0;34m\u001b[0m\u001b[0m\n\u001b[0m\u001b[1;32m    732\u001b[0m \u001b[0;34m\u001b[0m\u001b[0m\n\u001b[1;32m    733\u001b[0m     \u001b[0mcheck_consistent_length\u001b[0m\u001b[0;34m(\u001b[0m\u001b[0my_true\u001b[0m\u001b[0;34m,\u001b[0m \u001b[0my_score\u001b[0m\u001b[0;34m,\u001b[0m \u001b[0msample_weight\u001b[0m\u001b[0;34m)\u001b[0m\u001b[0;34m\u001b[0m\u001b[0;34m\u001b[0m\u001b[0m\n",
            "\u001b[0;31mValueError\u001b[0m: multilabel-indicator format is not supported"
          ]
        }
      ],
      "source": [
        "import scikitplot as skplt\n",
        "import matplotlib.pyplot as plt\n",
        "\n",
        "for i, name in enumerate(LABEL_COLUMNS):\n",
        "    tag_auroc = auroc(predictions[:, i], labels[:, i], pos_label=1)\n",
        "preds = predictions[:, LABEL_COLUMNS]\n",
        "\n",
        "\n",
        "# y_probas = predictions[:, i]\n",
        "skplt.metrics.plot_roc_curve(y_true, predictions)\n",
        "plt.show()"
      ]
    },
    {
      "cell_type": "markdown",
      "metadata": {
        "id": "T_bpwjpigQNy"
      },
      "source": [
        "# Confusion Matrix "
      ]
    },
    {
      "cell_type": "code",
      "execution_count": null,
      "metadata": {
        "colab": {
          "base_uri": "https://localhost:8080/",
          "height": 371
        },
        "id": "1UnaYsdjgSnz",
        "outputId": "3370f003-46c6-42cf-f108-c1f99c8d972c"
      },
      "outputs": [
        {
          "ename": "ValueError",
          "evalue": "ignored",
          "output_type": "error",
          "traceback": [
            "\u001b[0;31m---------------------------------------------------------------------------\u001b[0m",
            "\u001b[0;31mValueError\u001b[0m                                Traceback (most recent call last)",
            "\u001b[0;32m<ipython-input-97-3e84827b2960>\u001b[0m in \u001b[0;36m<module>\u001b[0;34m()\u001b[0m\n\u001b[1;32m      7\u001b[0m   \u001b[0mplt\u001b[0m\u001b[0;34m.\u001b[0m\u001b[0mxlabel\u001b[0m\u001b[0;34m(\u001b[0m\u001b[0;34m'Predicted sentiment'\u001b[0m\u001b[0;34m)\u001b[0m\u001b[0;34m;\u001b[0m\u001b[0;34m\u001b[0m\u001b[0;34m\u001b[0m\u001b[0m\n\u001b[1;32m      8\u001b[0m \u001b[0mcm\u001b[0m \u001b[0;34m=\u001b[0m \u001b[0mmultilabel_confusion_matrix\u001b[0m\u001b[0;34m(\u001b[0m\u001b[0my_true\u001b[0m\u001b[0;34m,\u001b[0m \u001b[0my_pred\u001b[0m\u001b[0;34m)\u001b[0m\u001b[0;34m\u001b[0m\u001b[0;34m\u001b[0m\u001b[0m\n\u001b[0;32m----> 9\u001b[0;31m \u001b[0mdf_cm\u001b[0m \u001b[0;34m=\u001b[0m \u001b[0mpd\u001b[0m\u001b[0;34m.\u001b[0m\u001b[0mDataFrame\u001b[0m\u001b[0;34m(\u001b[0m\u001b[0mcm\u001b[0m\u001b[0;34m,\u001b[0m  \u001b[0mcolumns\u001b[0m\u001b[0;34m=\u001b[0m \u001b[0mLABEL_COLUMNS\u001b[0m\u001b[0;34m)\u001b[0m\u001b[0;34m\u001b[0m\u001b[0;34m\u001b[0m\u001b[0m\n\u001b[0m\u001b[1;32m     10\u001b[0m \u001b[0mshow_confusion_matrix\u001b[0m\u001b[0;34m(\u001b[0m\u001b[0mcm\u001b[0m\u001b[0;34m)\u001b[0m\u001b[0;34m\u001b[0m\u001b[0;34m\u001b[0m\u001b[0m\n",
            "\u001b[0;32m/usr/local/lib/python3.7/dist-packages/pandas/core/frame.py\u001b[0m in \u001b[0;36m__init__\u001b[0;34m(self, data, index, columns, dtype, copy)\u001b[0m\n\u001b[1;32m    676\u001b[0m                     \u001b[0mdtype\u001b[0m\u001b[0;34m=\u001b[0m\u001b[0mdtype\u001b[0m\u001b[0;34m,\u001b[0m\u001b[0;34m\u001b[0m\u001b[0;34m\u001b[0m\u001b[0m\n\u001b[1;32m    677\u001b[0m                     \u001b[0mcopy\u001b[0m\u001b[0;34m=\u001b[0m\u001b[0mcopy\u001b[0m\u001b[0;34m,\u001b[0m\u001b[0;34m\u001b[0m\u001b[0;34m\u001b[0m\u001b[0m\n\u001b[0;32m--> 678\u001b[0;31m                     \u001b[0mtyp\u001b[0m\u001b[0;34m=\u001b[0m\u001b[0mmanager\u001b[0m\u001b[0;34m,\u001b[0m\u001b[0;34m\u001b[0m\u001b[0;34m\u001b[0m\u001b[0m\n\u001b[0m\u001b[1;32m    679\u001b[0m                 )\n\u001b[1;32m    680\u001b[0m \u001b[0;34m\u001b[0m\u001b[0m\n",
            "\u001b[0;32m/usr/local/lib/python3.7/dist-packages/pandas/core/internals/construction.py\u001b[0m in \u001b[0;36mndarray_to_mgr\u001b[0;34m(values, index, columns, dtype, copy, typ)\u001b[0m\n\u001b[1;32m    302\u001b[0m         \u001b[0;31m# by definition an array here\u001b[0m\u001b[0;34m\u001b[0m\u001b[0;34m\u001b[0m\u001b[0;34m\u001b[0m\u001b[0m\n\u001b[1;32m    303\u001b[0m         \u001b[0;31m# the dtypes will be coerced to a single dtype\u001b[0m\u001b[0;34m\u001b[0m\u001b[0;34m\u001b[0m\u001b[0;34m\u001b[0m\u001b[0m\n\u001b[0;32m--> 304\u001b[0;31m         \u001b[0mvalues\u001b[0m \u001b[0;34m=\u001b[0m \u001b[0m_prep_ndarray\u001b[0m\u001b[0;34m(\u001b[0m\u001b[0mvalues\u001b[0m\u001b[0;34m,\u001b[0m \u001b[0mcopy\u001b[0m\u001b[0;34m=\u001b[0m\u001b[0mcopy\u001b[0m\u001b[0;34m)\u001b[0m\u001b[0;34m\u001b[0m\u001b[0;34m\u001b[0m\u001b[0m\n\u001b[0m\u001b[1;32m    305\u001b[0m \u001b[0;34m\u001b[0m\u001b[0m\n\u001b[1;32m    306\u001b[0m     \u001b[0;32mif\u001b[0m \u001b[0mdtype\u001b[0m \u001b[0;32mis\u001b[0m \u001b[0;32mnot\u001b[0m \u001b[0;32mNone\u001b[0m \u001b[0;32mand\u001b[0m \u001b[0;32mnot\u001b[0m \u001b[0mis_dtype_equal\u001b[0m\u001b[0;34m(\u001b[0m\u001b[0mvalues\u001b[0m\u001b[0;34m.\u001b[0m\u001b[0mdtype\u001b[0m\u001b[0;34m,\u001b[0m \u001b[0mdtype\u001b[0m\u001b[0;34m)\u001b[0m\u001b[0;34m:\u001b[0m\u001b[0;34m\u001b[0m\u001b[0;34m\u001b[0m\u001b[0m\n",
            "\u001b[0;32m/usr/local/lib/python3.7/dist-packages/pandas/core/internals/construction.py\u001b[0m in \u001b[0;36m_prep_ndarray\u001b[0;34m(values, copy)\u001b[0m\n\u001b[1;32m    553\u001b[0m         \u001b[0mvalues\u001b[0m \u001b[0;34m=\u001b[0m \u001b[0mvalues\u001b[0m\u001b[0;34m.\u001b[0m\u001b[0mreshape\u001b[0m\u001b[0;34m(\u001b[0m\u001b[0;34m(\u001b[0m\u001b[0mvalues\u001b[0m\u001b[0;34m.\u001b[0m\u001b[0mshape\u001b[0m\u001b[0;34m[\u001b[0m\u001b[0;36m0\u001b[0m\u001b[0;34m]\u001b[0m\u001b[0;34m,\u001b[0m \u001b[0;36m1\u001b[0m\u001b[0;34m)\u001b[0m\u001b[0;34m)\u001b[0m\u001b[0;34m\u001b[0m\u001b[0;34m\u001b[0m\u001b[0m\n\u001b[1;32m    554\u001b[0m     \u001b[0;32melif\u001b[0m \u001b[0mvalues\u001b[0m\u001b[0;34m.\u001b[0m\u001b[0mndim\u001b[0m \u001b[0;34m!=\u001b[0m \u001b[0;36m2\u001b[0m\u001b[0;34m:\u001b[0m\u001b[0;34m\u001b[0m\u001b[0;34m\u001b[0m\u001b[0m\n\u001b[0;32m--> 555\u001b[0;31m         \u001b[0;32mraise\u001b[0m \u001b[0mValueError\u001b[0m\u001b[0;34m(\u001b[0m\u001b[0;34mf\"Must pass 2-d input. shape={values.shape}\"\u001b[0m\u001b[0;34m)\u001b[0m\u001b[0;34m\u001b[0m\u001b[0;34m\u001b[0m\u001b[0m\n\u001b[0m\u001b[1;32m    556\u001b[0m \u001b[0;34m\u001b[0m\u001b[0m\n\u001b[1;32m    557\u001b[0m     \u001b[0;32mreturn\u001b[0m \u001b[0mvalues\u001b[0m\u001b[0;34m\u001b[0m\u001b[0;34m\u001b[0m\u001b[0m\n",
            "\u001b[0;31mValueError\u001b[0m: Must pass 2-d input. shape=(6, 2, 2)"
          ]
        }
      ],
      "source": [
        "# confusion matrix\n",
        "def show_confusion_matrix(multilabel_confusion_matrix):\n",
        "    hmap = sns.heatmap(multilabel_confusion_matrix, annot=True, fmt=\"d\", cmap=\"Blues\")\n",
        "    hmap.yaxis.set_ticklabels(hmap.yaxis.get_ticklabels(), rotation=0, ha=\"right\")\n",
        "    hmap.xaxis.set_ticklabels(hmap.xaxis.get_ticklabels(), rotation=30, ha=\"right\")\n",
        "    plt.ylabel(\"True sentiment\")\n",
        "    plt.xlabel(\"Predicted sentiment\")\n",
        "\n",
        "\n",
        "cm = multilabel_confusion_matrix(y_true, y_pred)\n",
        "df_cm = pd.DataFrame(cm, index=LABEL_COLUMNS, columns=LABEL_COLUMNS)\n",
        "show_confusion_matrix(cm)"
      ]
    },
    {
      "cell_type": "code",
      "execution_count": null,
      "metadata": {
        "colab": {
          "base_uri": "https://localhost:8080/"
        },
        "id": "_IdmVZswuRDU",
        "outputId": "3094fda4-adc7-479f-8560-a4ed868926ee"
      },
      "outputs": [
        {
          "name": "stdout",
          "output_type": "stream",
          "text": [
            "[[[ 978   33]\n",
            "  [  10  111]]\n",
            "\n",
            " [[1078    9]\n",
            "  [  30   15]]\n",
            "\n",
            " [[1111    0]\n",
            "  [   2   19]]\n",
            "\n",
            " [[ 908    7]\n",
            "  [  32  185]]\n",
            "\n",
            " [[ 347    2]\n",
            "  [  12  771]]\n",
            "\n",
            " [[1080    1]\n",
            "  [   7   44]]]\n"
          ]
        }
      ],
      "source": [
        "cm = multilabel_confusion_matrix(y_true, y_pred)\n",
        "print()"
      ]
    }
  ],
  "metadata": {
    "accelerator": "GPU",
    "colab": {
      "background_execution": "on",
      "collapsed_sections": [],
      "machine_shape": "hm",
      "name": "BERT Multi-label Final.ipynb",
      "provenance": []
    },
    "gpuClass": "standard",
    "kernelspec": {
      "display_name": "Python 3",
      "name": "python3"
    },
    "language_info": {
      "codemirror_mode": {
        "name": "ipython",
        "version": 3
      },
      "file_extension": ".py",
      "mimetype": "text/x-python",
      "name": "python",
      "nbconvert_exporter": "python",
      "pygments_lexer": "ipython3",
      "version": "3.10.11"
    },
    "widgets": {
      "application/vnd.jupyter.widget-state+json": {
        "22664f6c71be47cd9209d53a4bcbd184": {
          "model_module": "@jupyter-widgets/controls",
          "model_module_version": "1.5.0",
          "model_name": "DescriptionStyleModel",
          "state": {
            "_model_module": "@jupyter-widgets/controls",
            "_model_module_version": "1.5.0",
            "_model_name": "DescriptionStyleModel",
            "_view_count": null,
            "_view_module": "@jupyter-widgets/base",
            "_view_module_version": "1.2.0",
            "_view_name": "StyleView",
            "description_width": ""
          }
        },
        "2fc850a541e346f192c862f8826cac19": {
          "model_module": "@jupyter-widgets/controls",
          "model_module_version": "1.5.0",
          "model_name": "DescriptionStyleModel",
          "state": {
            "_model_module": "@jupyter-widgets/controls",
            "_model_module_version": "1.5.0",
            "_model_name": "DescriptionStyleModel",
            "_view_count": null,
            "_view_module": "@jupyter-widgets/base",
            "_view_module_version": "1.2.0",
            "_view_name": "StyleView",
            "description_width": ""
          }
        },
        "38a5af2b9ce941b3bc48ef7c301e9f3c": {
          "model_module": "@jupyter-widgets/controls",
          "model_module_version": "1.5.0",
          "model_name": "FloatProgressModel",
          "state": {
            "_dom_classes": [],
            "_model_module": "@jupyter-widgets/controls",
            "_model_module_version": "1.5.0",
            "_model_name": "FloatProgressModel",
            "_view_count": null,
            "_view_module": "@jupyter-widgets/controls",
            "_view_module_version": "1.5.0",
            "_view_name": "ProgressView",
            "bar_style": "success",
            "description": "",
            "description_tooltip": null,
            "layout": "IPY_MODEL_e7654f738b2b468a9f72a1bd5782584f",
            "max": 1132,
            "min": 0,
            "orientation": "horizontal",
            "style": "IPY_MODEL_e26fee8142ac42c0a6cc80d0c3910948",
            "value": 1132
          }
        },
        "7aa7f8b53c2b430cae6127d62d9be1c6": {
          "model_module": "@jupyter-widgets/controls",
          "model_module_version": "1.5.0",
          "model_name": "HTMLModel",
          "state": {
            "_dom_classes": [],
            "_model_module": "@jupyter-widgets/controls",
            "_model_module_version": "1.5.0",
            "_model_name": "HTMLModel",
            "_view_count": null,
            "_view_module": "@jupyter-widgets/controls",
            "_view_module_version": "1.5.0",
            "_view_name": "HTMLView",
            "description": "",
            "description_tooltip": null,
            "layout": "IPY_MODEL_991b35e75e7346a58b58c5f6a94ac6fb",
            "placeholder": "​",
            "style": "IPY_MODEL_2fc850a541e346f192c862f8826cac19",
            "value": "100%"
          }
        },
        "991b35e75e7346a58b58c5f6a94ac6fb": {
          "model_module": "@jupyter-widgets/base",
          "model_module_version": "1.2.0",
          "model_name": "LayoutModel",
          "state": {
            "_model_module": "@jupyter-widgets/base",
            "_model_module_version": "1.2.0",
            "_model_name": "LayoutModel",
            "_view_count": null,
            "_view_module": "@jupyter-widgets/base",
            "_view_module_version": "1.2.0",
            "_view_name": "LayoutView",
            "align_content": null,
            "align_items": null,
            "align_self": null,
            "border": null,
            "bottom": null,
            "display": null,
            "flex": null,
            "flex_flow": null,
            "grid_area": null,
            "grid_auto_columns": null,
            "grid_auto_flow": null,
            "grid_auto_rows": null,
            "grid_column": null,
            "grid_gap": null,
            "grid_row": null,
            "grid_template_areas": null,
            "grid_template_columns": null,
            "grid_template_rows": null,
            "height": null,
            "justify_content": null,
            "justify_items": null,
            "left": null,
            "margin": null,
            "max_height": null,
            "max_width": null,
            "min_height": null,
            "min_width": null,
            "object_fit": null,
            "object_position": null,
            "order": null,
            "overflow": null,
            "overflow_x": null,
            "overflow_y": null,
            "padding": null,
            "right": null,
            "top": null,
            "visibility": null,
            "width": null
          }
        },
        "a361d3cf2df94c769e670949dd637905": {
          "model_module": "@jupyter-widgets/base",
          "model_module_version": "1.2.0",
          "model_name": "LayoutModel",
          "state": {
            "_model_module": "@jupyter-widgets/base",
            "_model_module_version": "1.2.0",
            "_model_name": "LayoutModel",
            "_view_count": null,
            "_view_module": "@jupyter-widgets/base",
            "_view_module_version": "1.2.0",
            "_view_name": "LayoutView",
            "align_content": null,
            "align_items": null,
            "align_self": null,
            "border": null,
            "bottom": null,
            "display": null,
            "flex": null,
            "flex_flow": null,
            "grid_area": null,
            "grid_auto_columns": null,
            "grid_auto_flow": null,
            "grid_auto_rows": null,
            "grid_column": null,
            "grid_gap": null,
            "grid_row": null,
            "grid_template_areas": null,
            "grid_template_columns": null,
            "grid_template_rows": null,
            "height": null,
            "justify_content": null,
            "justify_items": null,
            "left": null,
            "margin": null,
            "max_height": null,
            "max_width": null,
            "min_height": null,
            "min_width": null,
            "object_fit": null,
            "object_position": null,
            "order": null,
            "overflow": null,
            "overflow_x": null,
            "overflow_y": null,
            "padding": null,
            "right": null,
            "top": null,
            "visibility": null,
            "width": null
          }
        },
        "ab3c30ece12b4555ab9de7702463d492": {
          "model_module": "@jupyter-widgets/controls",
          "model_module_version": "1.5.0",
          "model_name": "HTMLModel",
          "state": {
            "_dom_classes": [],
            "_model_module": "@jupyter-widgets/controls",
            "_model_module_version": "1.5.0",
            "_model_name": "HTMLModel",
            "_view_count": null,
            "_view_module": "@jupyter-widgets/controls",
            "_view_module_version": "1.5.0",
            "_view_name": "HTMLView",
            "description": "",
            "description_tooltip": null,
            "layout": "IPY_MODEL_ae81b452b350452e9f5e093698d2767f",
            "placeholder": "​",
            "style": "IPY_MODEL_22664f6c71be47cd9209d53a4bcbd184",
            "value": " 1132/1132 [00:15&lt;00:00, 72.01it/s]"
          }
        },
        "ae81b452b350452e9f5e093698d2767f": {
          "model_module": "@jupyter-widgets/base",
          "model_module_version": "1.2.0",
          "model_name": "LayoutModel",
          "state": {
            "_model_module": "@jupyter-widgets/base",
            "_model_module_version": "1.2.0",
            "_model_name": "LayoutModel",
            "_view_count": null,
            "_view_module": "@jupyter-widgets/base",
            "_view_module_version": "1.2.0",
            "_view_name": "LayoutView",
            "align_content": null,
            "align_items": null,
            "align_self": null,
            "border": null,
            "bottom": null,
            "display": null,
            "flex": null,
            "flex_flow": null,
            "grid_area": null,
            "grid_auto_columns": null,
            "grid_auto_flow": null,
            "grid_auto_rows": null,
            "grid_column": null,
            "grid_gap": null,
            "grid_row": null,
            "grid_template_areas": null,
            "grid_template_columns": null,
            "grid_template_rows": null,
            "height": null,
            "justify_content": null,
            "justify_items": null,
            "left": null,
            "margin": null,
            "max_height": null,
            "max_width": null,
            "min_height": null,
            "min_width": null,
            "object_fit": null,
            "object_position": null,
            "order": null,
            "overflow": null,
            "overflow_x": null,
            "overflow_y": null,
            "padding": null,
            "right": null,
            "top": null,
            "visibility": null,
            "width": null
          }
        },
        "b83791b66d9c44589cae5ab4be3e6ca8": {
          "model_module": "@jupyter-widgets/controls",
          "model_module_version": "1.5.0",
          "model_name": "HBoxModel",
          "state": {
            "_dom_classes": [],
            "_model_module": "@jupyter-widgets/controls",
            "_model_module_version": "1.5.0",
            "_model_name": "HBoxModel",
            "_view_count": null,
            "_view_module": "@jupyter-widgets/controls",
            "_view_module_version": "1.5.0",
            "_view_name": "HBoxView",
            "box_style": "",
            "children": [
              "IPY_MODEL_7aa7f8b53c2b430cae6127d62d9be1c6",
              "IPY_MODEL_38a5af2b9ce941b3bc48ef7c301e9f3c",
              "IPY_MODEL_ab3c30ece12b4555ab9de7702463d492"
            ],
            "layout": "IPY_MODEL_a361d3cf2df94c769e670949dd637905"
          }
        },
        "e26fee8142ac42c0a6cc80d0c3910948": {
          "model_module": "@jupyter-widgets/controls",
          "model_module_version": "1.5.0",
          "model_name": "ProgressStyleModel",
          "state": {
            "_model_module": "@jupyter-widgets/controls",
            "_model_module_version": "1.5.0",
            "_model_name": "ProgressStyleModel",
            "_view_count": null,
            "_view_module": "@jupyter-widgets/base",
            "_view_module_version": "1.2.0",
            "_view_name": "StyleView",
            "bar_color": null,
            "description_width": ""
          }
        },
        "e7654f738b2b468a9f72a1bd5782584f": {
          "model_module": "@jupyter-widgets/base",
          "model_module_version": "1.2.0",
          "model_name": "LayoutModel",
          "state": {
            "_model_module": "@jupyter-widgets/base",
            "_model_module_version": "1.2.0",
            "_model_name": "LayoutModel",
            "_view_count": null,
            "_view_module": "@jupyter-widgets/base",
            "_view_module_version": "1.2.0",
            "_view_name": "LayoutView",
            "align_content": null,
            "align_items": null,
            "align_self": null,
            "border": null,
            "bottom": null,
            "display": null,
            "flex": null,
            "flex_flow": null,
            "grid_area": null,
            "grid_auto_columns": null,
            "grid_auto_flow": null,
            "grid_auto_rows": null,
            "grid_column": null,
            "grid_gap": null,
            "grid_row": null,
            "grid_template_areas": null,
            "grid_template_columns": null,
            "grid_template_rows": null,
            "height": null,
            "justify_content": null,
            "justify_items": null,
            "left": null,
            "margin": null,
            "max_height": null,
            "max_width": null,
            "min_height": null,
            "min_width": null,
            "object_fit": null,
            "object_position": null,
            "order": null,
            "overflow": null,
            "overflow_x": null,
            "overflow_y": null,
            "padding": null,
            "right": null,
            "top": null,
            "visibility": null,
            "width": null
          }
        }
      }
    }
  },
  "nbformat": 4,
  "nbformat_minor": 0
}
